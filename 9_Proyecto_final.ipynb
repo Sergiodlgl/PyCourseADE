{
  "cells": [
    {
      "cell_type": "markdown",
      "source": [
        "|Módulo anterior|Índice|Módulo siguiente|\n",
        "|-------|-----------|-----------------|\n",
        "|[8.Librería Matplitlib.](https://colab.research.google.com/github/Sergiodlgl/PyCourseADE/blob/main/8_Librer%C3%ADa_Matplotlib.ipynb#scrollTo=I441Jy1FWnOo)|[Introducción](https://colab.research.google.com/github/Sergiodlgl/PyCourseADE/blob/main/0_Introducción_a_Jupyter_notebooks.ipynb)||"
      ],
      "metadata": {
        "id": "RGDnPxMxiECz"
      },
      "id": "RGDnPxMxiECz"
    },
    {
      "cell_type": "markdown",
      "source": [
        "# MÓDULO 9: PROYECTO FINAL\n",
        "\n",
        "## Objetivo del módulo\n",
        "\n",
        "El propósito de este módulo es consolidar todos los conocimientos adquiridos a lo largo del curso mediante la realización de un proyecto práctico. Los estudiantes deberán crear un pequeño sistema de análisis de datos que combine entrada/salida, estructuras de datos, funciones, y visualización utilizando `NumPy`, `Pandas` y `Matplotlib`.\n",
        "\n",
        "## Descripción del proyecto\n",
        "\n",
        "**Proyecto: Análisis de ventas de una empresa ficticia**\n",
        "\n",
        "Se proporcionará un archivo `.csv` con datos de ventas de una empresa, que incluirá las siguientes columnas:\n",
        "\n",
        "* `Fecha`\n",
        "* `Producto`\n",
        "* `Categoría`\n",
        "* `Unidades vendidas`\n",
        "* `Precio unitario`\n",
        "* `Ciudad`\n",
        "\n",
        "## Tareas que debe realizar el estudiante\n",
        "\n",
        "1. **Lectura y comprensión de los datos**\n",
        "\n",
        "   * Cargar el archivo `.csv` usando Pandas.\n",
        "   * Mostrar las primeras filas del DataFrame.\n",
        "   * Identificar cuántas categorías y productos hay.\n",
        "\n",
        "2. **Procesamiento**\n",
        "\n",
        "   * Calcular el ingreso total por fila (`unidades * precio`).\n",
        "   * Añadir una nueva columna con este cálculo.\n",
        "\n",
        "3. **Análisis**\n",
        "\n",
        "   * Calcular las ventas totales por categoría.\n",
        "   * Calcular las ciudades con mayores ingresos.\n",
        "   * Determinar el producto más vendido.\n",
        "\n",
        "4. **Visualización**\n",
        "\n",
        "   * Crear un gráfico de barras de ventas por categoría.\n",
        "   * Crear un gráfico de líneas con ingresos mensuales.\n",
        "   * Crear un histograma de precios.\n",
        "\n",
        "5. **Extras (opcional)**\n",
        "\n",
        "   * Permitir que el usuario filtre los datos por ciudad o categoría usando `input()`.\n",
        "   * Guardar los resultados del análisis en un archivo `.json`.\n",
        "\n",
        "## Entregable\n",
        "\n",
        "Este notebook añadiendo en la siguiente siguiente sección las siguientes cuestiones:\n",
        "\n",
        "* Nombre y apellidos del alumno.\n",
        "* Código comentado.\n",
        "* Visualizaciones limpias.\n",
        "* Análisis interpretativo escrito por el estudiante."
      ],
      "metadata": {
        "id": "iYSddvU2MqiL"
      },
      "id": "iYSddvU2MqiL"
    },
    {
      "cell_type": "markdown",
      "source": [
        "# MÓDULO 9: RESULTADOS"
      ],
      "metadata": {
        "id": "Yn6UMkDnOpBq"
      },
      "id": "Yn6UMkDnOpBq"
    },
    {
      "cell_type": "code",
      "source": [],
      "metadata": {
        "id": "5i8VheXHM4jZ"
      },
      "id": "5i8VheXHM4jZ",
      "execution_count": null,
      "outputs": []
    }
  ],
  "metadata": {
    "colab": {
      "provenance": []
    }
  },
  "nbformat": 4,
  "nbformat_minor": 5
}