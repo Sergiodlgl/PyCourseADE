{
  "cells": [
    {
      "cell_type": "markdown",
      "source": [
        "|Módulo anterior|Índice|Módulo siguiente|\n",
        "|-------|-----------|-----------------|\n",
        "|[5.Entradas y salidas](https://colab.research.google.com/github/Sergiodlgl/PyCourseADE/blob/main/5_Entradas_y_salidas.ipynb)|[Introducción](https://colab.research.google.com/github/Sergiodlgl/PyCourseADE/blob/main/0_Introducción_a_Jupyter_notebooks.ipynb)|[7.Librería Pandas](https://colab.research.google.com/github/Sergiodlgl/PyCourseADE/blob/main/7_Librer%C3%ADa_Pandas.ipynb)|"
      ],
      "metadata": {
        "id": "RGDnPxMxiECz"
      },
      "id": "RGDnPxMxiECz"
    },
    {
      "cell_type": "markdown",
      "source": [
        "# MÓDULO 6: LIBRERÍA NUMPY\n",
        "\n",
        "NumPy es una de las librerías más importantes de Python para el trabajo con datos numéricos. Permite crear y manipular arrays (vectores y matrices), realizar operaciones matemáticas eficientes y trabajar con grandes volúmenes de datos. Es ampliamente usada en análisis financiero, estadísticas y machine learning."
      ],
      "metadata": {
        "id": "Ft5iF_540ofk"
      },
      "id": "Ft5iF_540ofk"
    },
    {
      "cell_type": "markdown",
      "source": [
        "## Sección 1: Manejo de librerías (`import`)\n",
        "\n",
        "Antes de usar cualquier librería externa en Python, es necesario importarla. En esta sección importamos NumPy y mostramos cómo crear un array básico para trabajar con números."
      ],
      "metadata": {
        "id": "KGZCA7q80uD-"
      },
      "id": "KGZCA7q80uD-"
    },
    {
      "cell_type": "code",
      "source": [
        "# Importar NumPy\n",
        "import numpy as np\n",
        "\n",
        "# Crear un array\n",
        "numeros = np.array([1, 2, 3, 4, 5])\n",
        "print(\"Array:\", numeros)\n",
        "\n",
        "# Tipo del array\n",
        "print(\"Tipo:\", type(numeros))"
      ],
      "metadata": {
        "id": "Aml3WJA60tDl",
        "outputId": "e6abbd03-05a3-43b0-cabb-e9d366c869ba",
        "colab": {
          "base_uri": "https://localhost:8080/"
        }
      },
      "id": "Aml3WJA60tDl",
      "execution_count": null,
      "outputs": [
        {
          "output_type": "stream",
          "name": "stdout",
          "text": [
            "Array: [1 2 3 4 5]\n",
            "Tipo: <class 'numpy.ndarray'>\n"
          ]
        }
      ]
    },
    {
      "cell_type": "markdown",
      "source": [
        "## Sección 2: Estructuras de datos multidimensionales (arrays)\n",
        "\n",
        "Los arrays en NumPy pueden tener más de una dimensión. Esto permite representar datos como matrices, algo común en economía y contabilidad. Aquí vemos cómo crear una matriz 2D y obtener información sobre su forma y dimensiones."
      ],
      "metadata": {
        "id": "yGL12I1u1LXS"
      },
      "id": "yGL12I1u1LXS"
    },
    {
      "cell_type": "code",
      "source": [
        "# Crear array bidimensional\n",
        "matriz = np.array([[1, 2], [3, 4], [5, 6]])\n",
        "print(\"Matriz:\")\n",
        "print(matriz)\n",
        "\n",
        "# Ver forma y dimensiones\n",
        "print(\"Forma:\", matriz.shape)\n",
        "print(\"Dimensiones:\", matriz.ndim)"
      ],
      "metadata": {
        "id": "LacIcyGn1IW-",
        "outputId": "817c045c-a520-429f-c44a-926e82500c21",
        "colab": {
          "base_uri": "https://localhost:8080/"
        }
      },
      "id": "LacIcyGn1IW-",
      "execution_count": null,
      "outputs": [
        {
          "output_type": "stream",
          "name": "stdout",
          "text": [
            "Matriz:\n",
            "[[1 2]\n",
            " [3 4]\n",
            " [5 6]]\n",
            "Forma: (3, 2)\n",
            "Dimensiones: 2\n"
          ]
        }
      ]
    },
    {
      "cell_type": "markdown",
      "source": [
        "## Sección 3: Indexación y slicing\n",
        "\n",
        "Una de las ventajas de NumPy es acceder fácilmente a elementos específicos de los arrays o seleccionar subconjuntos. Esta sección cubre cómo extraer valores individuales y subconjuntos usando indexación y slicing."
      ],
      "metadata": {
        "id": "pYnPRy3m1Pq6"
      },
      "id": "pYnPRy3m1Pq6"
    },
    {
      "cell_type": "code",
      "source": [
        "# Indexación\n",
        "print(\"Elemento fila 1, columna 0:\", matriz[1, 0])\n",
        "\n",
        "# Slicing\n",
        "print(\"Primera columna:\", matriz[:, 0])\n",
        "print(\"Últimas dos filas:\")\n",
        "print(matriz[1:, :])"
      ],
      "metadata": {
        "id": "C16UDTmK1Spj",
        "outputId": "939f22b7-2665-4191-9b48-224408fc9347",
        "colab": {
          "base_uri": "https://localhost:8080/"
        }
      },
      "id": "C16UDTmK1Spj",
      "execution_count": null,
      "outputs": [
        {
          "output_type": "stream",
          "name": "stdout",
          "text": [
            "Elemento fila 1, columna 0: 3\n",
            "Primera columna: [1 3 5]\n",
            "Últimas dos filas:\n",
            "[[3 4]\n",
            " [5 6]]\n"
          ]
        }
      ]
    },
    {
      "cell_type": "markdown",
      "source": [
        "## Sección 4: Operaciones matemáticas con arrays\n",
        "\n",
        "NumPy permite realizar operaciones matemáticas de manera muy eficiente. Podemos aplicar operaciones escalares a todos los elementos, hacer operaciones entre arrays y obtener estadísticas como media o desviación estándar."
      ],
      "metadata": {
        "id": "nAwayvnp1X3Q"
      },
      "id": "nAwayvnp1X3Q"
    },
    {
      "cell_type": "code",
      "source": [
        "# Suma y producto escalar\n",
        "print(\"Array original:\", numeros)\n",
        "print(\"Array + 10:\", numeros + 10)\n",
        "print(\"Array * 2:\", numeros * 2)\n",
        "\n",
        "# Operaciones entre arrays\n",
        "otro = np.array([10, 20, 30, 40, 50])\n",
        "print(\"Suma de arrays:\", numeros + otro)\n",
        "\n",
        "# Estadísticas\n",
        "print(\"Media:\", numeros.mean())\n",
        "print(\"Desviación estándar:\", numeros.std())"
      ],
      "metadata": {
        "id": "FULcWVZc1UsL",
        "outputId": "b4c222b5-eab5-4949-f4c9-b82373a315e8",
        "colab": {
          "base_uri": "https://localhost:8080/"
        }
      },
      "id": "FULcWVZc1UsL",
      "execution_count": null,
      "outputs": [
        {
          "output_type": "stream",
          "name": "stdout",
          "text": [
            "Array original: [1 2 3 4 5]\n",
            "Array + 10: [11 12 13 14 15]\n",
            "Array * 2: [ 2  4  6  8 10]\n",
            "Suma de arrays: [11 22 33 44 55]\n",
            "Media: 3.0\n",
            "Desviación estándar: 1.4142135623730951\n"
          ]
        }
      ]
    },
    {
      "cell_type": "markdown",
      "source": [
        "# MÓDULO 6: EJERCICIOS\n",
        "\n",
        "1. Crea un array de 10 números del 1 al 10.\n",
        "2. Crea una matriz 3x3 con los números del 1 al 9.\n",
        "3. Extrae la segunda fila de la matriz.\n",
        "4. Multiplica todos los elementos por 5.\n",
        "5. Calcula la media y la suma total de los elementos."
      ],
      "metadata": {
        "id": "yJNOyAOw1d84"
      },
      "id": "yJNOyAOw1d84"
    },
    {
      "cell_type": "code",
      "source": [
        "#EJECUTA ESTA CELDA PARA PODER COMPROBAR LOS RESULTADOS DE LOS EJERCICIOS\n",
        "!wget -O tests_curso.py https://raw.githubusercontent.com/Sergiodlgl/PyCourseADE/main/data/tests_curso.py\n",
        "import tests_curso\n",
        "\n",
        "import numpy as np"
      ],
      "metadata": {
        "id": "AONETenV2OiS",
        "outputId": "b025a917-0656-47b2-92d4-ffe63648224a",
        "colab": {
          "base_uri": "https://localhost:8080/"
        }
      },
      "execution_count": 2,
      "outputs": [
        {
          "output_type": "stream",
          "name": "stdout",
          "text": [
            "--2025-06-08 10:06:52--  https://raw.githubusercontent.com/Sergiodlgl/PyCourseADE/main/data/tests_curso.py\n",
            "Resolving raw.githubusercontent.com (raw.githubusercontent.com)... 185.199.110.133, 185.199.109.133, 185.199.111.133, ...\n",
            "Connecting to raw.githubusercontent.com (raw.githubusercontent.com)|185.199.110.133|:443... connected.\n",
            "HTTP request sent, awaiting response... 200 OK\n",
            "Length: 637 [text/plain]\n",
            "Saving to: ‘tests_curso.py’\n",
            "\n",
            "tests_curso.py      100%[===================>]     637  --.-KB/s    in 0s      \n",
            "\n",
            "2025-06-08 10:06:53 (50.3 MB/s) - ‘tests_curso.py’ saved [637/637]\n",
            "\n"
          ]
        }
      ],
      "id": "AONETenV2OiS"
    },
    {
      "cell_type": "code",
      "source": [
        "s = np.array([-50,20,40])\n",
        "\n",
        "np.irr([-50,20,40])"
      ],
      "metadata": {
        "id": "TsPkyqtIvOMF",
        "outputId": "ad90f20f-c678-4a91-e50d-9a37b35d0cf4",
        "colab": {
          "base_uri": "https://localhost:8080/",
          "height": 311
        }
      },
      "id": "TsPkyqtIvOMF",
      "execution_count": null,
      "outputs": [
        {
          "output_type": "error",
          "ename": "AttributeError",
          "evalue": "module 'numpy' has no attribute 'irr'",
          "traceback": [
            "\u001b[0;31m---------------------------------------------------------------------------\u001b[0m",
            "\u001b[0;31mAttributeError\u001b[0m                            Traceback (most recent call last)",
            "\u001b[0;32m<ipython-input-9-fc1460d6f9de>\u001b[0m in \u001b[0;36m<cell line: 0>\u001b[0;34m()\u001b[0m\n\u001b[1;32m      1\u001b[0m \u001b[0ms\u001b[0m \u001b[0;34m=\u001b[0m \u001b[0mnp\u001b[0m\u001b[0;34m.\u001b[0m\u001b[0marray\u001b[0m\u001b[0;34m(\u001b[0m\u001b[0;34m[\u001b[0m\u001b[0;34m-\u001b[0m\u001b[0;36m50\u001b[0m\u001b[0;34m,\u001b[0m\u001b[0;36m20\u001b[0m\u001b[0;34m,\u001b[0m\u001b[0;36m40\u001b[0m\u001b[0;34m]\u001b[0m\u001b[0;34m)\u001b[0m\u001b[0;34m\u001b[0m\u001b[0;34m\u001b[0m\u001b[0m\n\u001b[1;32m      2\u001b[0m \u001b[0;34m\u001b[0m\u001b[0m\n\u001b[0;32m----> 3\u001b[0;31m \u001b[0mnp\u001b[0m\u001b[0;34m.\u001b[0m\u001b[0mirr\u001b[0m\u001b[0;34m(\u001b[0m\u001b[0;34m[\u001b[0m\u001b[0;34m-\u001b[0m\u001b[0;36m50\u001b[0m\u001b[0;34m,\u001b[0m\u001b[0;36m20\u001b[0m\u001b[0;34m,\u001b[0m\u001b[0;36m40\u001b[0m\u001b[0;34m]\u001b[0m\u001b[0;34m)\u001b[0m\u001b[0;34m\u001b[0m\u001b[0;34m\u001b[0m\u001b[0m\n\u001b[0m",
            "\u001b[0;32m/usr/local/lib/python3.11/dist-packages/numpy/__init__.py\u001b[0m in \u001b[0;36m__getattr__\u001b[0;34m(attr)\u001b[0m\n\u001b[1;32m    408\u001b[0m             \u001b[0;32mreturn\u001b[0m \u001b[0mchar\u001b[0m\u001b[0;34m.\u001b[0m\u001b[0mchararray\u001b[0m\u001b[0;34m\u001b[0m\u001b[0;34m\u001b[0m\u001b[0m\n\u001b[1;32m    409\u001b[0m \u001b[0;34m\u001b[0m\u001b[0m\n\u001b[0;32m--> 410\u001b[0;31m         raise AttributeError(\"module {!r} has no attribute \"\n\u001b[0m\u001b[1;32m    411\u001b[0m                              \"{!r}\".format(__name__, attr))\n\u001b[1;32m    412\u001b[0m \u001b[0;34m\u001b[0m\u001b[0m\n",
            "\u001b[0;31mAttributeError\u001b[0m: module 'numpy' has no attribute 'irr'"
          ]
        }
      ]
    },
    {
      "cell_type": "markdown",
      "source": [
        "## Ejercicio 1: Análisis de rentabilidad de productos\n",
        "\n",
        "Para este ejercicio se pide implementar una función que calcule la rentabilidad los productos de una empresa en un número de regiones dadas.\n",
        "\n",
        "Como datos de entrada se saben:\n",
        "* Un array de n precios\n",
        "* Un array de n costes\n",
        "* Un array bisimensional de m regiones y n productos\n",
        "\n",
        "Un ejemplo de datos de entrada es:\n",
        "```\n",
        "    precios = np.array([10.0, 20.0, 15.0])\n",
        "    costes = np.array([6.0, 12.0, 8.0])\n",
        "\n",
        "    ventas = np.array([\n",
        "        [100, 150, 200],   # Región 1\n",
        "        [80, 130, 170],    # Región 2\n",
        "        [120, 160, 180],   # Región 3\n",
        "        [90, 140, 160]     # Región 4\n",
        "    ])\n",
        "```\n",
        "El resultado de esa entrada sería:\n",
        "```\n",
        "    array([\n",
        "        [ 400., 1200., 1400.],\n",
        "        [ 320., 1040., 1190.],\n",
        "        [ 480., 1280., 1260.],\n",
        "        [ 360., 1120., 1120.]\n",
        "    ])\n",
        "```"
      ],
      "metadata": {
        "id": "ytGnIu8Y5kuI"
      },
      "id": "ytGnIu8Y5kuI"
    },
    {
      "cell_type": "code",
      "source": [
        "def calcular_clv(lista_ingresos_costes, tasa_descuento):\n",
        "    # Tu código aquí\n",
        "\n",
        "# COMPROBACIÓN DE LOS RESULTADOS\n",
        "tests_curso.test_calcular_clv(calcular_clv)"
      ],
      "metadata": {
        "id": "onDlnvICv_Xo"
      },
      "execution_count": null,
      "outputs": [],
      "id": "onDlnvICv_Xo"
    },
    {
      "cell_type": "code",
      "source": [
        "precios = np.array([10.0, 20.0, 15.0])\n",
        "costes = np.array([6.0, 12.0, 8.0])\n",
        "\n",
        "ventas = np.array([\n",
        "  [100, 150, 200],   # Región 1\n",
        "  [80, 130, 170],    # Región 2\n",
        "  [120, 160, 180],   # Región 3\n",
        "  [90, 140, 160]     # Región 4\n",
        "])\n",
        "\n",
        "ventas * (precios - costes)"
      ],
      "metadata": {
        "id": "UqgITi_fpor-",
        "outputId": "bba71a42-bad1-4466-bc49-2a1433c63f2a",
        "colab": {
          "base_uri": "https://localhost:8080/"
        }
      },
      "id": "UqgITi_fpor-",
      "execution_count": 6,
      "outputs": [
        {
          "output_type": "execute_result",
          "data": {
            "text/plain": [
              "array([[ 400., 1200., 1400.],\n",
              "       [ 320., 1040., 1190.],\n",
              "       [ 480., 1280., 1260.],\n",
              "       [ 360., 1120., 1120.]])"
            ]
          },
          "metadata": {},
          "execution_count": 6
        }
      ]
    },
    {
      "cell_type": "code",
      "source": [],
      "metadata": {
        "id": "6V55P6zLpojq"
      },
      "id": "6V55P6zLpojq",
      "execution_count": null,
      "outputs": []
    },
    {
      "cell_type": "code",
      "source": [],
      "metadata": {
        "id": "tuYTj4qVpobK"
      },
      "id": "tuYTj4qVpobK",
      "execution_count": null,
      "outputs": []
    },
    {
      "cell_type": "code",
      "source": [],
      "metadata": {
        "id": "8oM6nmgDpoTZ"
      },
      "id": "8oM6nmgDpoTZ",
      "execution_count": null,
      "outputs": []
    },
    {
      "cell_type": "code",
      "source": [],
      "metadata": {
        "id": "U9AlVtTCpoKY"
      },
      "id": "U9AlVtTCpoKY",
      "execution_count": null,
      "outputs": []
    },
    {
      "cell_type": "code",
      "source": [
        "# 1\n",
        "array_10 = np.arange(1, 11)\n",
        "print(\"Array de 1 a 10:\", array_10)\n",
        "\n",
        "# 2\n",
        "matriz_3x3 = np.arange(1, 10).reshape(3, 3)\n",
        "print(\"Matriz 3x3:\")\n",
        "print(matriz_3x3)\n",
        "\n",
        "# 3\n",
        "print(\"Segunda fila:\", matriz_3x3[1])\n",
        "\n",
        "# 4\n",
        "print(\"Matriz x5:\")\n",
        "print(matriz_3x3 * 5)\n",
        "\n",
        "# 5\n",
        "print(\"Media:\", matriz_3x3.mean())\n",
        "print(\"Suma total:\", matriz_3x3.sum())"
      ],
      "metadata": {
        "id": "fmTceayZ1dFu",
        "outputId": "66a82bd7-9bbf-49d0-f140-e05e7a54036e",
        "colab": {
          "base_uri": "https://localhost:8080/"
        }
      },
      "id": "fmTceayZ1dFu",
      "execution_count": null,
      "outputs": [
        {
          "output_type": "stream",
          "name": "stdout",
          "text": [
            "Array de 1 a 10: [ 1  2  3  4  5  6  7  8  9 10]\n",
            "Matriz 3x3:\n",
            "[[1 2 3]\n",
            " [4 5 6]\n",
            " [7 8 9]]\n",
            "Segunda fila: [4 5 6]\n",
            "Matriz x5:\n",
            "[[ 5 10 15]\n",
            " [20 25 30]\n",
            " [35 40 45]]\n",
            "Media: 5.0\n",
            "Suma total: 45\n"
          ]
        }
      ]
    },
    {
      "cell_type": "markdown",
      "source": [
        "|Módulo anterior|Índice|Módulo siguiente|\n",
        "|-------|-----------|-----------------|\n",
        "|[5.Entradas y salidas](https://colab.research.google.com/github/Sergiodlgl/PyCourseADE/blob/main/5_Entradas_y_salidas.ipynb)|[Introducción](https://colab.research.google.com/github/Sergiodlgl/PyCourseADE/blob/main/0_Introducción_a_Jupyter_notebooks.ipynb)|[7.Librería Pandas](https://colab.research.google.com/github/Sergiodlgl/PyCourseADE/blob/main/7_Librer%C3%ADa_Pandas.ipynb)|"
      ],
      "metadata": {
        "id": "uNFbGkYsktAj"
      },
      "id": "uNFbGkYsktAj"
    }
  ],
  "metadata": {
    "colab": {
      "provenance": []
    },
    "language_info": {
      "name": "python"
    },
    "kernelspec": {
      "name": "python3",
      "display_name": "Python 3"
    }
  },
  "nbformat": 4,
  "nbformat_minor": 5
}