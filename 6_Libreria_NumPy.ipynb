{
  "cells": [
    {
      "cell_type": "markdown",
      "source": [
        "|Módulo anterior|Índice|Módulo siguiente|\n",
        "|-------|-----------|-----------------|\n",
        "|[5.Entradas y salidas](https://colab.research.google.com/github/Sergiodlgl/PyCourseADE/blob/main/5_Entradas_y_salidas.ipynb)|[Introducción](https://colab.research.google.com/github/Sergiodlgl/PyCourseADE/blob/main/0_Introducción_a_Jupyter_notebooks.ipynb)|[7.Librería Pandas](https://colab.research.google.com/github/Sergiodlgl/PyCourseADE/blob/main/7_Librer%C3%ADa_Pandas.ipynb)|"
      ],
      "metadata": {
        "id": "RGDnPxMxiECz"
      },
      "id": "RGDnPxMxiECz"
    },
    {
      "cell_type": "markdown",
      "source": [
        "# MÓDULO 6: LIBRERÍA NUMPY\n",
        "\n",
        "NumPy es una de las librerías más importantes de Python para el trabajo con datos numéricos. Permite crear y manipular arrays (vectores y matrices), realizar operaciones matemáticas eficientes y trabajar con grandes volúmenes de datos. Es ampliamente usada en análisis financiero, estadísticas y machine learning."
      ],
      "metadata": {
        "id": "Ft5iF_540ofk"
      },
      "id": "Ft5iF_540ofk"
    },
    {
      "cell_type": "markdown",
      "source": [
        "## Sección 1: Manejo de librerías (`import`)\n",
        "\n",
        "Antes de usar cualquier librería externa en Python, es necesario importarla. En esta sección importamos NumPy y mostramos cómo crear un array básico para trabajar con números."
      ],
      "metadata": {
        "id": "KGZCA7q80uD-"
      },
      "id": "KGZCA7q80uD-"
    },
    {
      "cell_type": "code",
      "source": [
        "# Importar NumPy\n",
        "import numpy as np\n",
        "\n",
        "# Crear un array\n",
        "numeros = np.array([1, 2, 3, 4, 5])\n",
        "print(\"Array:\", numeros)\n",
        "\n",
        "# Tipo del array\n",
        "print(\"Tipo:\", type(numeros))"
      ],
      "metadata": {
        "id": "Aml3WJA60tDl"
      },
      "id": "Aml3WJA60tDl",
      "execution_count": null,
      "outputs": []
    },
    {
      "cell_type": "markdown",
      "source": [
        "## Sección 2: Estructuras de datos multidimensionales (arrays)\n",
        "\n",
        "Los arrays en NumPy pueden tener más de una dimensión. Esto permite representar datos como matrices, algo común en economía y contabilidad. Aquí vemos cómo crear una matriz 2D y obtener información sobre su forma y dimensiones."
      ],
      "metadata": {
        "id": "yGL12I1u1LXS"
      },
      "id": "yGL12I1u1LXS"
    },
    {
      "cell_type": "code",
      "source": [
        "# Crear array bidimensional\n",
        "matriz = np.array([[1, 2], [3, 4], [5, 6]])\n",
        "print(\"Matriz:\")\n",
        "print(matriz)\n",
        "\n",
        "# Ver forma y dimensiones\n",
        "print(\"Forma:\", matriz.shape)\n",
        "print(\"Dimensiones:\", matriz.ndim)"
      ],
      "metadata": {
        "id": "LacIcyGn1IW-"
      },
      "id": "LacIcyGn1IW-",
      "execution_count": null,
      "outputs": []
    },
    {
      "cell_type": "markdown",
      "source": [
        "## Sección 3: Indexación y slicing\n",
        "\n",
        "Una de las ventajas de NumPy es acceder fácilmente a elementos específicos de los arrays o seleccionar subconjuntos. Esta sección cubre cómo extraer valores individuales y subconjuntos usando indexación y slicing."
      ],
      "metadata": {
        "id": "pYnPRy3m1Pq6"
      },
      "id": "pYnPRy3m1Pq6"
    },
    {
      "cell_type": "code",
      "source": [
        "# Indexación\n",
        "print(\"Elemento fila 1, columna 0:\", matriz[1, 0])\n",
        "\n",
        "# Slicing\n",
        "print(\"Primera columna:\", matriz[:, 0])\n",
        "print(\"Últimas dos filas:\")\n",
        "print(matriz[1:, :])"
      ],
      "metadata": {
        "id": "C16UDTmK1Spj"
      },
      "id": "C16UDTmK1Spj",
      "execution_count": null,
      "outputs": []
    },
    {
      "cell_type": "markdown",
      "source": [
        "## Sección 4: Operaciones matemáticas con arrays\n",
        "\n",
        "NumPy permite realizar operaciones matemáticas de manera muy eficiente. Podemos aplicar operaciones escalares a todos los elementos, hacer operaciones entre arrays y obtener estadísticas como media o desviación estándar."
      ],
      "metadata": {
        "id": "nAwayvnp1X3Q"
      },
      "id": "nAwayvnp1X3Q"
    },
    {
      "cell_type": "code",
      "source": [
        "# Suma y producto escalar\n",
        "print(\"Array original:\", numeros)\n",
        "print(\"Array + 10:\", numeros + 10)\n",
        "print(\"Array * 2:\", numeros * 2)\n",
        "\n",
        "# Operaciones entre arrays\n",
        "otro = np.array([10, 20, 30, 40, 50])\n",
        "print(\"Suma de arrays:\", numeros + otro)\n",
        "\n",
        "# Estadísticas\n",
        "print(\"Media:\", numeros.mean())\n",
        "print(\"Desviación estándar:\", numeros.std())"
      ],
      "metadata": {
        "id": "FULcWVZc1UsL"
      },
      "id": "FULcWVZc1UsL",
      "execution_count": null,
      "outputs": []
    },
    {
      "cell_type": "markdown",
      "source": [
        "# MÓDULO 6: EJERCICIOS\n",
        "\n",
        "1. Crea un array de 10 números del 1 al 10.\n",
        "2. Crea una matriz 3x3 con los números del 1 al 9.\n",
        "3. Extrae la segunda fila de la matriz.\n",
        "4. Multiplica todos los elementos por 5.\n",
        "5. Calcula la media y la suma total de los elementos."
      ],
      "metadata": {
        "id": "yJNOyAOw1d84"
      },
      "id": "yJNOyAOw1d84"
    },
    {
      "cell_type": "code",
      "source": [
        "#EJECUTA ESTA CELDA PARA PODER COMPROBAR LOS RESULTADOS DE LOS EJERCICIOS\n",
        "!wget -O tests_curso.py https://raw.githubusercontent.com/Sergiodlgl/PyCourseADE/main/data/tests_curso.py\n",
        "import tests_curso\n",
        "\n",
        "import numpy as np"
      ],
      "metadata": {
        "id": "AONETenV2OiS"
      },
      "execution_count": null,
      "outputs": [],
      "id": "AONETenV2OiS"
    },
    {
      "cell_type": "markdown",
      "source": [
        "## Ejercicio 1: Análisis de rentabilidad de productos\n",
        "\n",
        "Para este ejercicio se pide implementa una función `calcular_rentabilidad(precios, costes, ventas)` que devuelva una matriz de rentabilidades de forma `(m, n)`, donde cada celda representa:\n",
        "\n",
        "$$\n",
        "\\text{Rentabilidad}_{i,j} = (precio_j - coste_j) \\times ventas_{i,j}\n",
        "$$\n",
        "\n",
        "Los argumentos son:\n",
        "* `precios`: array de tamaño `(n,)` con los precios por producto.\n",
        "* `costes`: array de tamaño `(n,)` con los costes por producto.\n",
        "* `ventas`: array de tamaño `(m, n)` con la cantidad de unidades vendidas por región (filas) y producto (columnas).\n",
        "\n",
        "```\n",
        "precios = np.array([10.0, 20.0, 15.0])\n",
        "costes = np.array([6.0, 12.0, 8.0])\n",
        "\n",
        "ventas = np.array([\n",
        "    [100, 150, 200],\n",
        "    [80, 130, 170],\n",
        "    [120, 160, 180],\n",
        "    [90, 140, 160]\n",
        "])\n",
        "```\n",
        "La salida esperada es:\n",
        "```\n",
        "array([\n",
        "    [ 400., 1200., 1400.],\n",
        "    [ 320., 1040., 1190.],\n",
        "    [ 480., 1280., 1260.],\n",
        "    [ 360., 1120., 1120.]\n",
        "])\n",
        "```"
      ],
      "metadata": {
        "id": "ytGnIu8Y5kuI"
      },
      "id": "ytGnIu8Y5kuI"
    },
    {
      "cell_type": "code",
      "source": [
        "def calcular_rentabilidad(precios, costes, ventas):\n",
        "    # Tu código aquí\n",
        "\n",
        "# COMPROBACIÓN DE LOS RESULTADOS\n",
        "tests_curso.test_calcular_rentabilidad(calcular_rentabilidad)"
      ],
      "metadata": {
        "id": "onDlnvICv_Xo"
      },
      "execution_count": null,
      "outputs": [],
      "id": "onDlnvICv_Xo"
    },
    {
      "cell_type": "code",
      "source": [],
      "metadata": {
        "id": "6V55P6zLpojq"
      },
      "id": "6V55P6zLpojq",
      "execution_count": null,
      "outputs": []
    },
    {
      "cell_type": "code",
      "source": [],
      "metadata": {
        "id": "tuYTj4qVpobK"
      },
      "id": "tuYTj4qVpobK",
      "execution_count": null,
      "outputs": []
    },
    {
      "cell_type": "code",
      "source": [],
      "metadata": {
        "id": "8oM6nmgDpoTZ"
      },
      "id": "8oM6nmgDpoTZ",
      "execution_count": null,
      "outputs": []
    },
    {
      "cell_type": "code",
      "source": [],
      "metadata": {
        "id": "U9AlVtTCpoKY"
      },
      "id": "U9AlVtTCpoKY",
      "execution_count": null,
      "outputs": []
    },
    {
      "cell_type": "code",
      "source": [
        "# 1\n",
        "array_10 = np.arange(1, 11)\n",
        "print(\"Array de 1 a 10:\", array_10)\n",
        "\n",
        "# 2\n",
        "matriz_3x3 = np.arange(1, 10).reshape(3, 3)\n",
        "print(\"Matriz 3x3:\")\n",
        "print(matriz_3x3)\n",
        "\n",
        "# 3\n",
        "print(\"Segunda fila:\", matriz_3x3[1])\n",
        "\n",
        "# 4\n",
        "print(\"Matriz x5:\")\n",
        "print(matriz_3x3 * 5)\n",
        "\n",
        "# 5\n",
        "print(\"Media:\", matriz_3x3.mean())\n",
        "print(\"Suma total:\", matriz_3x3.sum())"
      ],
      "metadata": {
        "id": "fmTceayZ1dFu"
      },
      "id": "fmTceayZ1dFu",
      "execution_count": null,
      "outputs": []
    },
    {
      "cell_type": "markdown",
      "source": [
        "|Módulo anterior|Índice|Módulo siguiente|\n",
        "|-------|-----------|-----------------|\n",
        "|[5.Entradas y salidas](https://colab.research.google.com/github/Sergiodlgl/PyCourseADE/blob/main/5_Entradas_y_salidas.ipynb)|[Introducción](https://colab.research.google.com/github/Sergiodlgl/PyCourseADE/blob/main/0_Introducción_a_Jupyter_notebooks.ipynb)|[7.Librería Pandas](https://colab.research.google.com/github/Sergiodlgl/PyCourseADE/blob/main/7_Librer%C3%ADa_Pandas.ipynb)|"
      ],
      "metadata": {
        "id": "uNFbGkYsktAj"
      },
      "id": "uNFbGkYsktAj"
    }
  ],
  "metadata": {
    "colab": {
      "provenance": []
    },
    "language_info": {
      "name": "python"
    },
    "kernelspec": {
      "name": "python3",
      "display_name": "Python 3"
    }
  },
  "nbformat": 4,
  "nbformat_minor": 5
}