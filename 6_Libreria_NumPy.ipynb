{
  "cells": [
    {
      "cell_type": "markdown",
      "source": [
        "|Módulo anterior|Índice|Módulo siguiente|\n",
        "|-------|-----------|-----------------|\n",
        "|[5.Entradas y salidas](https://colab.research.google.com/github/Sergiodlgl/PyCourseADE/blob/main/5_Entradas_y_salidas.ipynb)|[Introducción](https://colab.research.google.com/github/Sergiodlgl/PyCourseADE/blob/main/0_Introducción_a_Jupyter_notebooks.ipynb)|[7.Librería Pandas](https://colab.research.google.com/github/Sergiodlgl/PyCourseADE/blob/main/7_Librer%C3%ADa_Pandas.ipynb)|"
      ],
      "metadata": {
        "id": "RGDnPxMxiECz"
      },
      "id": "RGDnPxMxiECz"
    },
    {
      "cell_type": "markdown",
      "source": [
        "# MÓDULO 6: LIBRERÍA NUMPY\n",
        "\n",
        "NumPy es una de las librerías más importantes de Python para el trabajo con datos numéricos. Permite crear y manipular arrays (vectores y matrices), realizar operaciones matemáticas eficientes y trabajar con grandes volúmenes de datos. Es ampliamente usada en análisis financiero, estadísticas y machine learning."
      ],
      "metadata": {
        "id": "Ft5iF_540ofk"
      },
      "id": "Ft5iF_540ofk"
    },
    {
      "cell_type": "markdown",
      "source": [
        "## Sección 1: Manejo de librerías (`import`)\n",
        "\n",
        "Antes de usar cualquier librería externa en Python, es necesario importarla. En esta sección importamos NumPy y mostramos cómo crear un array básico para trabajar con números."
      ],
      "metadata": {
        "id": "KGZCA7q80uD-"
      },
      "id": "KGZCA7q80uD-"
    },
    {
      "cell_type": "code",
      "source": [
        "# Importar NumPy\n",
        "import numpy as np\n",
        "\n",
        "# Crear un array\n",
        "numeros = np.array([1, 2, 3, 4, 5])\n",
        "print(\"Array:\", numeros)\n",
        "\n",
        "# Tipo del array\n",
        "print(\"Tipo:\", type(numeros))"
      ],
      "metadata": {
        "id": "Aml3WJA60tDl",
        "outputId": "e6abbd03-05a3-43b0-cabb-e9d366c869ba",
        "colab": {
          "base_uri": "https://localhost:8080/"
        }
      },
      "id": "Aml3WJA60tDl",
      "execution_count": null,
      "outputs": [
        {
          "output_type": "stream",
          "name": "stdout",
          "text": [
            "Array: [1 2 3 4 5]\n",
            "Tipo: <class 'numpy.ndarray'>\n"
          ]
        }
      ]
    },
    {
      "cell_type": "markdown",
      "source": [
        "## Sección 2: Estructuras de datos multidimensionales (arrays)\n",
        "\n",
        "Los arrays en NumPy pueden tener más de una dimensión. Esto permite representar datos como matrices, algo común en economía y contabilidad. Aquí vemos cómo crear una matriz 2D y obtener información sobre su forma y dimensiones."
      ],
      "metadata": {
        "id": "yGL12I1u1LXS"
      },
      "id": "yGL12I1u1LXS"
    },
    {
      "cell_type": "code",
      "source": [
        "# Crear array bidimensional\n",
        "matriz = np.array([[1, 2], [3, 4], [5, 6]])\n",
        "print(\"Matriz:\")\n",
        "print(matriz)\n",
        "\n",
        "# Ver forma y dimensiones\n",
        "print(\"Forma:\", matriz.shape)\n",
        "print(\"Dimensiones:\", matriz.ndim)"
      ],
      "metadata": {
        "id": "LacIcyGn1IW-",
        "outputId": "817c045c-a520-429f-c44a-926e82500c21",
        "colab": {
          "base_uri": "https://localhost:8080/"
        }
      },
      "id": "LacIcyGn1IW-",
      "execution_count": null,
      "outputs": [
        {
          "output_type": "stream",
          "name": "stdout",
          "text": [
            "Matriz:\n",
            "[[1 2]\n",
            " [3 4]\n",
            " [5 6]]\n",
            "Forma: (3, 2)\n",
            "Dimensiones: 2\n"
          ]
        }
      ]
    },
    {
      "cell_type": "markdown",
      "source": [
        "## Sección 3: Indexación y slicing\n",
        "\n",
        "Una de las ventajas de NumPy es acceder fácilmente a elementos específicos de los arrays o seleccionar subconjuntos. Esta sección cubre cómo extraer valores individuales y subconjuntos usando indexación y slicing."
      ],
      "metadata": {
        "id": "pYnPRy3m1Pq6"
      },
      "id": "pYnPRy3m1Pq6"
    },
    {
      "cell_type": "code",
      "source": [
        "# Indexación\n",
        "print(\"Elemento fila 1, columna 0:\", matriz[1, 0])\n",
        "\n",
        "# Slicing\n",
        "print(\"Primera columna:\", matriz[:, 0])\n",
        "print(\"Últimas dos filas:\")\n",
        "print(matriz[1:, :])"
      ],
      "metadata": {
        "id": "C16UDTmK1Spj",
        "outputId": "939f22b7-2665-4191-9b48-224408fc9347",
        "colab": {
          "base_uri": "https://localhost:8080/"
        }
      },
      "id": "C16UDTmK1Spj",
      "execution_count": null,
      "outputs": [
        {
          "output_type": "stream",
          "name": "stdout",
          "text": [
            "Elemento fila 1, columna 0: 3\n",
            "Primera columna: [1 3 5]\n",
            "Últimas dos filas:\n",
            "[[3 4]\n",
            " [5 6]]\n"
          ]
        }
      ]
    },
    {
      "cell_type": "markdown",
      "source": [
        "## Sección 4: Operaciones matemáticas con arrays\n",
        "\n",
        "NumPy permite realizar operaciones matemáticas de manera muy eficiente. Podemos aplicar operaciones escalares a todos los elementos, hacer operaciones entre arrays y obtener estadísticas como media o desviación estándar."
      ],
      "metadata": {
        "id": "nAwayvnp1X3Q"
      },
      "id": "nAwayvnp1X3Q"
    },
    {
      "cell_type": "code",
      "source": [
        "# Suma y producto escalar\n",
        "print(\"Array original:\", numeros)\n",
        "print(\"Array + 10:\", numeros + 10)\n",
        "print(\"Array * 2:\", numeros * 2)\n",
        "\n",
        "# Operaciones entre arrays\n",
        "otro = np.array([10, 20, 30, 40, 50])\n",
        "print(\"Suma de arrays:\", numeros + otro)\n",
        "\n",
        "# Estadísticas\n",
        "print(\"Media:\", numeros.mean())\n",
        "print(\"Desviación estándar:\", numeros.std())"
      ],
      "metadata": {
        "id": "FULcWVZc1UsL",
        "outputId": "b4c222b5-eab5-4949-f4c9-b82373a315e8",
        "colab": {
          "base_uri": "https://localhost:8080/"
        }
      },
      "id": "FULcWVZc1UsL",
      "execution_count": null,
      "outputs": [
        {
          "output_type": "stream",
          "name": "stdout",
          "text": [
            "Array original: [1 2 3 4 5]\n",
            "Array + 10: [11 12 13 14 15]\n",
            "Array * 2: [ 2  4  6  8 10]\n",
            "Suma de arrays: [11 22 33 44 55]\n",
            "Media: 3.0\n",
            "Desviación estándar: 1.4142135623730951\n"
          ]
        }
      ]
    },
    {
      "cell_type": "markdown",
      "source": [
        "# MÓDULO 6: EJERCICIOS\n",
        "\n",
        "1. Crea un array de 10 números del 1 al 10.\n",
        "2. Crea una matriz 3x3 con los números del 1 al 9.\n",
        "3. Extrae la segunda fila de la matriz.\n",
        "4. Multiplica todos los elementos por 5.\n",
        "5. Calcula la media y la suma total de los elementos."
      ],
      "metadata": {
        "id": "yJNOyAOw1d84"
      },
      "id": "yJNOyAOw1d84"
    },
    {
      "cell_type": "code",
      "source": [
        "# 1\n",
        "array_10 = np.arange(1, 11)\n",
        "print(\"Array de 1 a 10:\", array_10)\n",
        "\n",
        "# 2\n",
        "matriz_3x3 = np.arange(1, 10).reshape(3, 3)\n",
        "print(\"Matriz 3x3:\")\n",
        "print(matriz_3x3)\n",
        "\n",
        "# 3\n",
        "print(\"Segunda fila:\", matriz_3x3[1])\n",
        "\n",
        "# 4\n",
        "print(\"Matriz x5:\")\n",
        "print(matriz_3x3 * 5)\n",
        "\n",
        "# 5\n",
        "print(\"Media:\", matriz_3x3.mean())\n",
        "print(\"Suma total:\", matriz_3x3.sum())"
      ],
      "metadata": {
        "id": "fmTceayZ1dFu",
        "outputId": "66a82bd7-9bbf-49d0-f140-e05e7a54036e",
        "colab": {
          "base_uri": "https://localhost:8080/"
        }
      },
      "id": "fmTceayZ1dFu",
      "execution_count": null,
      "outputs": [
        {
          "output_type": "stream",
          "name": "stdout",
          "text": [
            "Array de 1 a 10: [ 1  2  3  4  5  6  7  8  9 10]\n",
            "Matriz 3x3:\n",
            "[[1 2 3]\n",
            " [4 5 6]\n",
            " [7 8 9]]\n",
            "Segunda fila: [4 5 6]\n",
            "Matriz x5:\n",
            "[[ 5 10 15]\n",
            " [20 25 30]\n",
            " [35 40 45]]\n",
            "Media: 5.0\n",
            "Suma total: 45\n"
          ]
        }
      ]
    },
    {
      "cell_type": "markdown",
      "source": [
        "|Módulo anterior|Índice|Módulo siguiente|\n",
        "|-------|-----------|-----------------|\n",
        "|[5.Entradas y salidas](https://colab.research.google.com/github/Sergiodlgl/PyCourseADE/blob/main/5_Entradas_y_salidas.ipynb)|[Introducción](https://colab.research.google.com/github/Sergiodlgl/PyCourseADE/blob/main/0_Introducción_a_Jupyter_notebooks.ipynb)|[7.Librería Pandas](https://colab.research.google.com/github/Sergiodlgl/PyCourseADE/blob/main/7_Librer%C3%ADa_Pandas.ipynb)|"
      ],
      "metadata": {
        "id": "uNFbGkYsktAj"
      },
      "id": "uNFbGkYsktAj"
    }
  ],
  "metadata": {
    "colab": {
      "provenance": []
    },
    "language_info": {
      "name": "python"
    },
    "kernelspec": {
      "name": "python3",
      "display_name": "Python 3"
    }
  },
  "nbformat": 4,
  "nbformat_minor": 5
}