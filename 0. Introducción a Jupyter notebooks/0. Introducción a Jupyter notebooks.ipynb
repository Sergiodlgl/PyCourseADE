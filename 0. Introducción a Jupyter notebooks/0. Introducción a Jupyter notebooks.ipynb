{
 "cells": [
  {
   "cell_type": "markdown",
   "id": "ac3303b2",
   "metadata": {},
   "source": [
    "Esta es un poco la idea"
   ]
  },
  {
   "cell_type": "code",
   "execution_count": null,
   "id": "ec415ae1",
   "metadata": {
    "vscode": {
     "languageId": "plaintext"
    }
   },
   "outputs": [],
   "source": [
    "https://colab.research.google.com/github/Sergiodlgl/PyCourseADE/blob/main/3.%20Funciones/3.%20Funciones.ipynb\n"
   ]
  }
 ],
 "metadata": {
  "language_info": {
   "name": "python"
  }
 },
 "nbformat": 4,
 "nbformat_minor": 5
}
