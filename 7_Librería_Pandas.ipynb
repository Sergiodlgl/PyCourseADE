{
  "cells": [
    {
      "cell_type": "markdown",
      "source": [
        "|Módulo anterior|Índice|Módulo siguiente|\n",
        "|-------|-----------|-----------------|\n",
        "|[6.Librería NumPy](https://colab.research.google.com/github/Sergiodlgl/PyCourseADE/blob/main/6_Libreria_NumPy.ipynb)|[Introducción](https://colab.research.google.com/github/Sergiodlgl/PyCourseADE/blob/main/0_Introducción_a_Jupyter_notebooks.ipynb)|[8.Librería Matplitlib.](https://colab.research.google.com/github/Sergiodlgl/PyCourseADE/blob/main/8_Librer%C3%ADa_Matplotlib.ipynb#scrollTo=I441Jy1FWnOo)|"
      ],
      "metadata": {
        "id": "RGDnPxMxiECz"
      },
      "id": "RGDnPxMxiECz"
    },
    {
      "cell_type": "markdown",
      "source": [
        "# MÓDULO 7: LIBRERÍA PANDAS\n",
        "\n",
        "Pandas es una de las librerías más utilizadas en el análisis de datos con Python. Permite trabajar con estructuras de datos como Series y DataFrames, facilitando la manipulación, filtrado, limpieza y análisis de conjuntos de datos. En esta lección aprenderás a importar datos, seleccionarlos, filtrarlos y realizar operaciones CRUD."
      ],
      "metadata": {
        "id": "chrF2D-w1xdI"
      },
      "id": "chrF2D-w1xdI"
    },
    {
      "cell_type": "markdown",
      "source": [
        "## Sección 1: Series y DataFrames\n",
        "\n",
        "Una Serie es una estructura unidimensional similar a una lista, y un DataFrame es una tabla bidimensional similar a una hoja de cálculo. Aquí crearemos ambos para entender cómo se construyen y manipulan."
      ],
      "metadata": {
        "id": "huwsnr_710Ew"
      },
      "id": "huwsnr_710Ew"
    },
    {
      "cell_type": "code",
      "source": [
        "import pandas as pd\n",
        "\n",
        "# Crear una Serie\n",
        "ventas = pd.Series([100, 200, 150, 300], index=[\"Q1\", \"Q2\", \"Q3\", \"Q4\"])\n",
        "print(\"Serie de ventas por trimestre:\")\n",
        "print(ventas)\n",
        "\n",
        "# Crear un DataFrame\n",
        "productos = pd.DataFrame({\n",
        "    \"Producto\": [\"Portátil\", \"Ratón\", \"Monitor\"],\n",
        "    \"Precio\": [800, 20, 150],\n",
        "    \"Stock\": [15, 300, 25]\n",
        "})\n",
        "print(\"\\nDataFrame de productos:\")\n",
        "print(productos)"
      ],
      "metadata": {
        "id": "0cmQlnRR1zeK",
        "outputId": "5ad3b22c-a7f0-446a-d1b5-7ada95b6bfa6",
        "colab": {
          "base_uri": "https://localhost:8080/"
        }
      },
      "id": "0cmQlnRR1zeK",
      "execution_count": null,
      "outputs": [
        {
          "output_type": "stream",
          "name": "stdout",
          "text": [
            "Serie de ventas por trimestre:\n",
            "Q1    100\n",
            "Q2    200\n",
            "Q3    150\n",
            "Q4    300\n",
            "dtype: int64\n",
            "\n",
            "DataFrame de productos:\n",
            "   Producto  Precio  Stock\n",
            "0  Portátil     800     15\n",
            "1     Ratón      20    300\n",
            "2   Monitor     150     25\n"
          ]
        }
      ]
    },
    {
      "cell_type": "markdown",
      "source": [
        "## Sección 2: Lectura de datos desde .csv\n",
        "\n",
        "Uno de los usos más comunes de Pandas es la lectura de archivos CSV, muy utilizados para almacenar bases de datos y registros contables. Aquí aprenderemos a importar un archivo."
      ],
      "metadata": {
        "id": "ZW7B2wms17mp"
      },
      "id": "ZW7B2wms17mp"
    },
    {
      "cell_type": "code",
      "source": [
        "# Supongamos que tienes un archivo llamado 'datos_clientes.csv'\n",
        "# df = pd.read_csv('datos_clientes.csv')\n",
        "# print(df.head())  # Mostrar primeras filas"
      ],
      "metadata": {
        "id": "CCyzyLHH15vJ"
      },
      "id": "CCyzyLHH15vJ",
      "execution_count": null,
      "outputs": []
    },
    {
      "cell_type": "markdown",
      "source": [
        "## Sección 3: Selección y filtrado de filas y columnas\n",
        "\n",
        "Pandas permite seleccionar columnas específicas, acceder a filas por índice o condición y aplicar filtros fácilmente. Esta capacidad es esencial para explorar los datos y extraer información útil."
      ],
      "metadata": {
        "id": "-XvDEaMw2CNV"
      },
      "id": "-XvDEaMw2CNV"
    },
    {
      "cell_type": "code",
      "source": [
        "# Selección de columnas\n",
        "print(\"\\nPrecios de productos:\")\n",
        "print(productos[\"Precio\"])\n",
        "\n",
        "# Filtrado por condición\n",
        "productos_caros = productos[productos[\"Precio\"] > 100]\n",
        "print(\"\\nProductos con precio > 100:\")\n",
        "print(productos_caros)\n"
      ],
      "metadata": {
        "id": "UCHpuXFv2ERc",
        "outputId": "c0a16cc1-6eba-4174-d961-8979c19a26d3",
        "colab": {
          "base_uri": "https://localhost:8080/"
        }
      },
      "id": "UCHpuXFv2ERc",
      "execution_count": null,
      "outputs": [
        {
          "output_type": "stream",
          "name": "stdout",
          "text": [
            "\n",
            "Precios de productos:\n",
            "0    800\n",
            "1     20\n",
            "2    150\n",
            "Name: Precio, dtype: int64\n",
            "\n",
            "Productos con precio > 100:\n",
            "   Producto  Precio  Stock\n",
            "0  Portátil     800     15\n",
            "2   Monitor     150     25\n"
          ]
        }
      ]
    },
    {
      "cell_type": "markdown",
      "source": [
        "## Sección 4: Operaciones CRUD (Create, Read, Update, Delete)\n",
        "\n",
        "Las operaciones CRUD (crear, leer, actualizar y eliminar) permiten modificar nuestros datos de forma efectiva. Aquí veremos ejemplos básicos para manipular un DataFrame."
      ],
      "metadata": {
        "id": "7LuAryAu2O_8"
      },
      "id": "7LuAryAu2O_8"
    },
    {
      "cell_type": "code",
      "source": [
        "# CREATE - Añadir nueva fila\n",
        "nuevo_producto = pd.DataFrame({\"Producto\": [\"Teclado\"], \"Precio\": [30], \"Stock\": [50]})\n",
        "productos = pd.concat([productos, nuevo_producto], ignore_index=True)\n",
        "\n",
        "# READ - Ver filas específicas\n",
        "print(\"\\nPrimera fila:\")\n",
        "print(productos.iloc[0])\n",
        "\n",
        "# UPDATE - Cambiar stock del primer producto\n",
        "productos.at[0, \"Stock\"] = 10\n",
        "\n",
        "# DELETE - Eliminar la última fila\n",
        "productos = productos.drop(index=productos.index[-1])\n",
        "\n",
        "print(\"\\nDataFrame actualizado:\")\n",
        "print(productos)"
      ],
      "metadata": {
        "id": "m1k66kiA2EOF",
        "outputId": "605b900d-0ca2-4fd4-fa62-ffdb42226161",
        "colab": {
          "base_uri": "https://localhost:8080/"
        }
      },
      "id": "m1k66kiA2EOF",
      "execution_count": null,
      "outputs": [
        {
          "output_type": "stream",
          "name": "stdout",
          "text": [
            "\n",
            "Primera fila:\n",
            "Producto    Portátil\n",
            "Precio           800\n",
            "Stock             15\n",
            "Name: 0, dtype: object\n",
            "\n",
            "DataFrame actualizado:\n",
            "   Producto  Precio  Stock\n",
            "0  Portátil     800     10\n",
            "1     Ratón      20    300\n",
            "2   Monitor     150     25\n"
          ]
        }
      ]
    },
    {
      "cell_type": "markdown",
      "source": [
        "# MÓDULO 7: EJERCICIOS\n",
        "\n",
        "1. Crea una Serie con las ventas de 5 productos diferentes.\n",
        "2. Crea un DataFrame con 3 empleados: nombre, edad y departamento.\n",
        "3. Filtra los empleados que trabajen en \"Marketing\".\n",
        "4. Añade un nuevo empleado al DataFrame.\n",
        "5. Elimina al segundo empleado."
      ],
      "metadata": {
        "id": "cR0E3pNW2VkY"
      },
      "id": "cR0E3pNW2VkY"
    },
    {
      "cell_type": "code",
      "source": [
        "# 1\n",
        "ventas_prod = pd.Series([120, 300, 250, 175, 400], index=[\"ProdA\", \"ProdB\", \"ProdC\", \"ProdD\", \"ProdE\"])\n",
        "print(\"Serie de ventas de productos:\")\n",
        "print(ventas_prod)\n",
        "\n",
        "# 2\n",
        "empleados = pd.DataFrame({\n",
        "    \"Nombre\": [\"Ana\", \"Luis\", \"María\"],\n",
        "    \"Edad\": [28, 35, 40],\n",
        "    \"Departamento\": [\"Marketing\", \"Ventas\", \"Finanzas\"]\n",
        "})\n",
        "print(\"\\nDataFrame de empleados:\")\n",
        "print(empleados)\n",
        "\n",
        "# 3\n",
        "marketing = empleados[empleados[\"Departamento\"] == \"Marketing\"]\n",
        "print(\"\\nEmpleados en Marketing:\")\n",
        "print(marketing)\n",
        "\n",
        "# 4\n",
        "nuevo_empleado = pd.DataFrame({\"Nombre\": [\"Carlos\"], \"Edad\": [30], \"Departamento\": [\"Marketing\"]})\n",
        "empleados = pd.concat([empleados, nuevo_empleado], ignore_index=True)\n",
        "\n",
        "# 5\n",
        "empleados = empleados.drop(index=1)\n",
        "print(\"\\nEmpleados actualizados:\")\n",
        "print(empleados)"
      ],
      "metadata": {
        "id": "mrxv9CLo2Bp5",
        "outputId": "2ffbb0c4-98fb-4e0c-94d8-3652df9091df",
        "colab": {
          "base_uri": "https://localhost:8080/"
        }
      },
      "id": "mrxv9CLo2Bp5",
      "execution_count": null,
      "outputs": [
        {
          "output_type": "stream",
          "name": "stdout",
          "text": [
            "Serie de ventas de productos:\n",
            "ProdA    120\n",
            "ProdB    300\n",
            "ProdC    250\n",
            "ProdD    175\n",
            "ProdE    400\n",
            "dtype: int64\n",
            "\n",
            "DataFrame de empleados:\n",
            "  Nombre  Edad Departamento\n",
            "0    Ana    28    Marketing\n",
            "1   Luis    35       Ventas\n",
            "2  María    40     Finanzas\n",
            "\n",
            "Empleados en Marketing:\n",
            "  Nombre  Edad Departamento\n",
            "0    Ana    28    Marketing\n",
            "\n",
            "Empleados actualizados:\n",
            "   Nombre  Edad Departamento\n",
            "0     Ana    28    Marketing\n",
            "2   María    40     Finanzas\n",
            "3  Carlos    30    Marketing\n"
          ]
        }
      ]
    },
    {
      "cell_type": "markdown",
      "source": [
        "|Módulo anterior|Índice|Módulo siguiente|\n",
        "|-------|-----------|-----------------|\n",
        "|[6.Librería NumPy](https://colab.research.google.com/github/Sergiodlgl/PyCourseADE/blob/main/6_Libreria_NumPy.ipynb)|[Introducción](https://colab.research.google.com/github/Sergiodlgl/PyCourseADE/blob/main/0_Introducción_a_Jupyter_notebooks.ipynb)|[8.Librería Matplitlib.](https://colab.research.google.com/github/Sergiodlgl/PyCourseADE/blob/main/8_Librer%C3%ADa_Matplotlib.ipynb#scrollTo=I441Jy1FWnOo)|"
      ],
      "metadata": {
        "id": "OvxKN9CCk51I"
      },
      "id": "OvxKN9CCk51I"
    }
  ],
  "metadata": {
    "colab": {
      "provenance": []
    },
    "language_info": {
      "name": "python"
    },
    "kernelspec": {
      "name": "python3",
      "display_name": "Python 3"
    }
  },
  "nbformat": 4,
  "nbformat_minor": 5
}