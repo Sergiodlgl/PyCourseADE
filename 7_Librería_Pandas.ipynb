{
  "cells": [
    {
      "cell_type": "markdown",
      "source": [
        "|Módulo anterior|Índice|Módulo siguiente|\n",
        "|-------|-----------|-----------------|\n",
        "|[6.Librería NumPy](https://colab.research.google.com/github/Sergiodlgl/PyCourseADE/blob/main/6_Libreria_NumPy.ipynb)|[Introducción](https://colab.research.google.com/github/Sergiodlgl/PyCourseADE/blob/main/0_Introducción_a_Jupyter_notebooks.ipynb)|[8.Librería Matplitlib.](https://colab.research.google.com/github/Sergiodlgl/PyCourseADE/blob/main/8_Librer%C3%ADa_Matplotlib.ipynb#scrollTo=I441Jy1FWnOo)|"
      ],
      "metadata": {
        "id": "RGDnPxMxiECz"
      },
      "id": "RGDnPxMxiECz"
    },
    {
      "cell_type": "markdown",
      "source": [
        "# MÓDULO 7: LIBRERÍA PANDAS\n",
        "\n",
        "Pandas es una de las librerías más utilizadas en el análisis de datos con Python. Permite trabajar con estructuras de datos como Series y DataFrames, facilitando la manipulación, filtrado, limpieza y análisis de conjuntos de datos. En esta lección aprenderás a importar datos, seleccionarlos, filtrarlos y realizar operaciones CRUD."
      ],
      "metadata": {
        "id": "chrF2D-w1xdI"
      },
      "id": "chrF2D-w1xdI"
    },
    {
      "cell_type": "markdown",
      "source": [
        "## Sección 1: Series y DataFrames\n",
        "\n",
        "Una Serie es una estructura unidimensional similar a una lista, y un DataFrame es una tabla bidimensional similar a una hoja de cálculo. Aquí crearemos ambos para entender cómo se construyen y manipulan."
      ],
      "metadata": {
        "id": "huwsnr_710Ew"
      },
      "id": "huwsnr_710Ew"
    },
    {
      "cell_type": "code",
      "source": [
        "import pandas as pd\n",
        "\n",
        "# Crear una Serie\n",
        "ventas = pd.Series([100, 200, 150, 300], index=[\"Q1\", \"Q2\", \"Q3\", \"Q4\"])\n",
        "print(\"Serie de ventas por trimestre:\")\n",
        "print(ventas)\n",
        "\n",
        "# Crear un DataFrame\n",
        "productos = pd.DataFrame({\n",
        "    \"Producto\": [\"Portátil\", \"Ratón\", \"Monitor\"],\n",
        "    \"Precio\": [800, 20, 150],\n",
        "    \"Stock\": [15, 300, 25]\n",
        "})\n",
        "print(\"\\nDataFrame de productos:\")\n",
        "print(productos)"
      ],
      "metadata": {
        "id": "0cmQlnRR1zeK"
      },
      "id": "0cmQlnRR1zeK",
      "execution_count": null,
      "outputs": []
    },
    {
      "cell_type": "markdown",
      "source": [
        "## Sección 2: Lectura de datos desde .csv\n",
        "\n",
        "Uno de los usos más comunes de Pandas es la lectura de archivos CSV, muy utilizados para almacenar bases de datos y registros contables. Aquí aprenderemos a importar un archivo."
      ],
      "metadata": {
        "id": "ZW7B2wms17mp"
      },
      "id": "ZW7B2wms17mp"
    },
    {
      "cell_type": "code",
      "source": [
        "# Supongamos que tienes un archivo llamado 'datos_clientes.csv'\n",
        "# df = pd.read_csv('datos_clientes.csv')\n",
        "# print(df.head())  # Mostrar primeras filas"
      ],
      "metadata": {
        "id": "CCyzyLHH15vJ"
      },
      "id": "CCyzyLHH15vJ",
      "execution_count": null,
      "outputs": []
    },
    {
      "cell_type": "markdown",
      "source": [
        "## Sección 3: Selección y filtrado de filas y columnas\n",
        "\n",
        "Pandas permite seleccionar columnas específicas, acceder a filas por índice o condición y aplicar filtros fácilmente. Esta capacidad es esencial para explorar los datos y extraer información útil."
      ],
      "metadata": {
        "id": "-XvDEaMw2CNV"
      },
      "id": "-XvDEaMw2CNV"
    },
    {
      "cell_type": "code",
      "source": [
        "# Selección de columnas\n",
        "print(\"\\nPrecios de productos:\")\n",
        "print(productos[\"Precio\"])\n",
        "\n",
        "# Filtrado por condición\n",
        "productos_caros = productos[productos[\"Precio\"] > 100]\n",
        "print(\"\\nProductos con precio > 100:\")\n",
        "print(productos_caros)\n"
      ],
      "metadata": {
        "id": "UCHpuXFv2ERc"
      },
      "id": "UCHpuXFv2ERc",
      "execution_count": null,
      "outputs": []
    },
    {
      "cell_type": "markdown",
      "source": [
        "## Sección 4: Operaciones CRUD (Create, Read, Update, Delete)\n",
        "\n",
        "Las operaciones CRUD (crear, leer, actualizar y eliminar) permiten modificar nuestros datos de forma efectiva. Aquí veremos ejemplos básicos para manipular un DataFrame."
      ],
      "metadata": {
        "id": "7LuAryAu2O_8"
      },
      "id": "7LuAryAu2O_8"
    },
    {
      "cell_type": "code",
      "source": [
        "# CREATE - Añadir nueva fila\n",
        "nuevo_producto = pd.DataFrame({\"Producto\": [\"Teclado\"], \"Precio\": [30], \"Stock\": [50]})\n",
        "productos = pd.concat([productos, nuevo_producto], ignore_index=True)\n",
        "\n",
        "# READ - Ver filas específicas\n",
        "print(\"\\nPrimera fila:\")\n",
        "print(productos.iloc[0])\n",
        "\n",
        "# UPDATE - Cambiar stock del primer producto\n",
        "productos.at[0, \"Stock\"] = 10\n",
        "\n",
        "# DELETE - Eliminar la última fila\n",
        "productos = productos.drop(index=productos.index[-1])\n",
        "\n",
        "print(\"\\nDataFrame actualizado:\")\n",
        "print(productos)"
      ],
      "metadata": {
        "id": "m1k66kiA2EOF"
      },
      "id": "m1k66kiA2EOF",
      "execution_count": null,
      "outputs": []
    },
    {
      "cell_type": "markdown",
      "source": [
        "# MÓDULO 7: EJERCICIOS\n",
        "\n",
        "1. Crea una Serie con las ventas de 5 productos diferentes.\n",
        "2. Crea un DataFrame con 3 empleados: nombre, edad y departamento.\n",
        "3. Filtra los empleados que trabajen en \"Marketing\".\n",
        "4. Añade un nuevo empleado al DataFrame.\n",
        "5. Elimina al segundo empleado."
      ],
      "metadata": {
        "id": "cR0E3pNW2VkY"
      },
      "id": "cR0E3pNW2VkY"
    },
    {
      "cell_type": "code",
      "source": [
        "#EJECUTA ESTA CELDA PARA PODER COMPROBAR LOS RESULTADOS DE LOS EJERCICIOS\n",
        "!wget -O tests_curso.py https://raw.githubusercontent.com/Sergiodlgl/PyCourseADE/main/data/tests_curso.py\n",
        "import tests_curso\n",
        "\n",
        "import pandas as pd"
      ],
      "metadata": {
        "id": "AONETenV2OiS",
        "outputId": "cd48da07-e8b4-4e7f-e2cd-d3282db9a8df",
        "colab": {
          "base_uri": "https://localhost:8080/"
        }
      },
      "execution_count": 1,
      "outputs": [
        {
          "output_type": "stream",
          "name": "stdout",
          "text": [
            "--2025-06-08 10:51:33--  https://raw.githubusercontent.com/Sergiodlgl/PyCourseADE/main/data/tests_curso.py\n",
            "Resolving raw.githubusercontent.com (raw.githubusercontent.com)... 185.199.111.133, 185.199.108.133, 185.199.109.133, ...\n",
            "Connecting to raw.githubusercontent.com (raw.githubusercontent.com)|185.199.111.133|:443... connected.\n",
            "HTTP request sent, awaiting response... 200 OK\n",
            "Length: 1251 (1.2K) [text/plain]\n",
            "Saving to: ‘tests_curso.py’\n",
            "\n",
            "\rtests_curso.py        0%[                    ]       0  --.-KB/s               \rtests_curso.py      100%[===================>]   1.22K  --.-KB/s    in 0s      \n",
            "\n",
            "2025-06-08 10:51:33 (89.2 MB/s) - ‘tests_curso.py’ saved [1251/1251]\n",
            "\n"
          ]
        }
      ],
      "id": "AONETenV2OiS"
    },
    {
      "cell_type": "markdown",
      "source": [
        "## Ejercicio 5: Análisis de ratios financieros con Pandas\n",
        "\n",
        "En este ejercicio quiere analizar algunos ratios clave de cada una de las distintas unidades de negocio de una empresa. Para ello, se pide implementar una función `calcular_ratios(df)` que, dado un DataFrame con las siguientes columnas:\n",
        "\n",
        "* `activo_corriente`\n",
        "* `pasivo_corriente`\n",
        "* `activo_total`\n",
        "* `pasivo_total`\n",
        "* `beneficio_neto`\n",
        "* `ingresos`\n",
        "\n",
        ", devuelva otro `DataFrame` con estos ratios calculados para cada fila:\n",
        "\n",
        "1. **Ratio de liquidez:**\n",
        "\n",
        "   $$\n",
        "   \\text{liquidez} = \\frac{\\text{activo\\_corriente}}{\\text{pasivo\\_corriente}}\n",
        "   $$\n",
        "\n",
        "2. **Ratio de solvencia:**\n",
        "\n",
        "   $$\n",
        "   \\text{solvencia} = \\frac{\\text{activo\\_total}}{\\text{pasivo\\_total}}\n",
        "   $$\n",
        "\n",
        "3. **Margen de rentabilidad neta:**\n",
        "\n",
        "   $$\n",
        "   \\text{rentabilidad} = \\frac{\\text{beneficio\\_neto}}{\\text{ingresos}}\n",
        "   $$\n",
        "\n",
        "Ejemplo de entrada:\n",
        "\n",
        "|activo_corriente|pasivo_corriente|activo_total|pasivo_total|beneficio_neto|ingresos|\n",
        "|-|-|-|-|-|-|\n",
        "|0|5000|2500|12000|6000|1000|10000|\n",
        "|1|3000|1500|8000|4000|500|5000|\n",
        "\n",
        "Ejemplo de salida:\n",
        "\n",
        "|liquidez|solvencia|rentabilidad|\n",
        "|-|-|-|\n",
        "|0|2.0|2.0|0.1|\n",
        "|1|2.0|2.0|0.1|\n"
      ],
      "metadata": {
        "id": "ytGnIu8Y5kuI"
      },
      "id": "ytGnIu8Y5kuI"
    },
    {
      "cell_type": "code",
      "source": [],
      "metadata": {
        "id": "OFzZilG_HSr0"
      },
      "id": "OFzZilG_HSr0",
      "execution_count": 6,
      "outputs": []
    },
    {
      "cell_type": "code",
      "source": [],
      "metadata": {
        "id": "8HFYKv-zHSEH"
      },
      "id": "8HFYKv-zHSEH",
      "execution_count": null,
      "outputs": []
    },
    {
      "cell_type": "code",
      "source": [
        "# 1\n",
        "ventas_prod = pd.Series([120, 300, 250, 175, 400], index=[\"ProdA\", \"ProdB\", \"ProdC\", \"ProdD\", \"ProdE\"])\n",
        "print(\"Serie de ventas de productos:\")\n",
        "print(ventas_prod)\n",
        "\n",
        "# 2\n",
        "empleados = pd.DataFrame({\n",
        "    \"Nombre\": [\"Ana\", \"Luis\", \"María\"],\n",
        "    \"Edad\": [28, 35, 40],\n",
        "    \"Departamento\": [\"Marketing\", \"Ventas\", \"Finanzas\"]\n",
        "})\n",
        "print(\"\\nDataFrame de empleados:\")\n",
        "print(empleados)\n",
        "\n",
        "# 3\n",
        "marketing = empleados[empleados[\"Departamento\"] == \"Marketing\"]\n",
        "print(\"\\nEmpleados en Marketing:\")\n",
        "print(marketing)\n",
        "\n",
        "# 4\n",
        "nuevo_empleado = pd.DataFrame({\"Nombre\": [\"Carlos\"], \"Edad\": [30], \"Departamento\": [\"Marketing\"]})\n",
        "empleados = pd.concat([empleados, nuevo_empleado], ignore_index=True)\n",
        "\n",
        "# 5\n",
        "empleados = empleados.drop(index=1)\n",
        "print(\"\\nEmpleados actualizados:\")\n",
        "print(empleados)"
      ],
      "metadata": {
        "id": "mrxv9CLo2Bp5"
      },
      "id": "mrxv9CLo2Bp5",
      "execution_count": null,
      "outputs": []
    },
    {
      "cell_type": "markdown",
      "source": [
        "|Módulo anterior|Índice|Módulo siguiente|\n",
        "|-------|-----------|-----------------|\n",
        "|[6.Librería NumPy](https://colab.research.google.com/github/Sergiodlgl/PyCourseADE/blob/main/6_Libreria_NumPy.ipynb)|[Introducción](https://colab.research.google.com/github/Sergiodlgl/PyCourseADE/blob/main/0_Introducción_a_Jupyter_notebooks.ipynb)|[8.Librería Matplitlib.](https://colab.research.google.com/github/Sergiodlgl/PyCourseADE/blob/main/8_Librer%C3%ADa_Matplotlib.ipynb#scrollTo=I441Jy1FWnOo)|"
      ],
      "metadata": {
        "id": "OvxKN9CCk51I"
      },
      "id": "OvxKN9CCk51I"
    }
  ],
  "metadata": {
    "colab": {
      "provenance": []
    },
    "language_info": {
      "name": "python"
    },
    "kernelspec": {
      "name": "python3",
      "display_name": "Python 3"
    }
  },
  "nbformat": 4,
  "nbformat_minor": 5
}