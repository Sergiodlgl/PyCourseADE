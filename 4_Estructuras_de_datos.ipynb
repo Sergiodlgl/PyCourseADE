{
  "cells": [
    {
      "cell_type": "markdown",
      "source": [
        "#MÓDULO 4: ESTRUCTURAS DE DATOS\n",
        "\n",
        "En este módulo aprenderás a trabajar con las principales estructuras de datos que ofrece Python: listas, tuplas, conjuntos y diccionarios. Estas estructuras permiten almacenar y organizar colecciones de datos, lo que resulta fundamental para tareas como el análisis financiero, la gestión de clientes o el procesamiento de datos. Veremos cómo crearlas, acceder a sus elementos y modificarlas con ejemplos prácticos enfocados al ámbito de ADE.\n"
      ],
      "metadata": {
        "id": "S0ZM1ecTwRrC"
      },
      "id": "S0ZM1ecTwRrC"
    },
    {
      "cell_type": "markdown",
      "source": [
        "##Sección 1: Listas\n",
        "\n",
        "Las listas son colecciones ordenadas y modificables. Se definen con corchetes `[]` y pueden contener distintos tipos de datos.\n",
        "Permiten añadir, eliminar y modificar elementos. Son muy utilizadas en programación por su flexibilidad."
      ],
      "metadata": {
        "id": "M4XwpeyawYYt"
      },
      "id": "M4XwpeyawYYt"
    },
    {
      "cell_type": "code",
      "source": [
        "# Crear una lista\n",
        "productos = [\"Ordenador\", \"Ratón\", \"Teclado\"]\n",
        "print(\"Lista de productos:\", productos)\n",
        "\n",
        "#Acceder a elementos\n",
        "print(\"Primer producto:\", productos[0])\n",
        "\n",
        "#Modificar un elemento\n",
        "productos[1] = \"Mouse\"\n",
        "print(\"Lista modificada:\", productos)\n",
        "\n",
        "#Añadir y eliminar elementos\n",
        "productos.append(\"Monitor\")\n",
        "productos.remove(\"Teclado\")\n",
        "print(\"Lista final:\", productos)"
      ],
      "metadata": {
        "id": "znwSArVhwWYn",
        "outputId": "12cf51ac-38f7-4396-f8cc-4cd90cff4435",
        "colab": {
          "base_uri": "https://localhost:8080/"
        }
      },
      "id": "znwSArVhwWYn",
      "execution_count": 3,
      "outputs": [
        {
          "output_type": "stream",
          "name": "stdout",
          "text": [
            "Lista de productos: ['Ordenador', 'Ratón', 'Teclado']\n",
            "Primer producto: Ordenador\n",
            "Lista modificada: ['Ordenador', 'Mouse', 'Teclado']\n",
            "Lista final: ['Ordenador', 'Mouse', 'Monitor']\n"
          ]
        }
      ]
    },
    {
      "cell_type": "markdown",
      "source": [
        "##Sección 2: Tuplas\n",
        "\n",
        "Las tuplas son colecciones ordenadas pero inmutables (no se pueden modificar una vez creadas). Se definen con paréntesis `()`.\n",
        "Son útiles cuando se quiere asegurar que los datos no se alteren accidentalmente, como por ejemplo las coordenadas o ciertos datos constantes."
      ],
      "metadata": {
        "id": "NucUedfPw_u-"
      },
      "id": "NucUedfPw_u-"
    },
    {
      "cell_type": "code",
      "source": [
        "#Crear una tupla\n",
        "moneda = (\"Euro\", \"€\")\n",
        "print(\"Tupla:\", moneda)\n",
        "\n",
        "#Acceder a elementos\n",
        "print(\"Nombre de la moneda:\", moneda[0])\n",
        "print(\"Símbolo:\", moneda[1])"
      ],
      "metadata": {
        "id": "9lrFtrQFxFfe",
        "outputId": "f5430de8-28ee-4ebb-c66d-a04525812d73",
        "colab": {
          "base_uri": "https://localhost:8080/"
        }
      },
      "id": "9lrFtrQFxFfe",
      "execution_count": 5,
      "outputs": [
        {
          "output_type": "stream",
          "name": "stdout",
          "text": [
            "Tupla: ('Euro', '€')\n",
            "Nombre de la moneda: Euro\n",
            "Símbolo: €\n"
          ]
        }
      ]
    },
    {
      "cell_type": "code",
      "source": [
        "#Intentar modificar una tupla (esto causa un error)\n",
        "moneda[0] = \"Dólar\""
      ],
      "metadata": {
        "id": "NVJr-ABMxYS3",
        "outputId": "afc0e994-a427-4782-d371-da95fe384392",
        "colab": {
          "base_uri": "https://localhost:8080/",
          "height": 164
        }
      },
      "id": "NVJr-ABMxYS3",
      "execution_count": 6,
      "outputs": [
        {
          "output_type": "error",
          "ename": "TypeError",
          "evalue": "'tuple' object does not support item assignment",
          "traceback": [
            "\u001b[0;31m---------------------------------------------------------------------------\u001b[0m",
            "\u001b[0;31mTypeError\u001b[0m                                 Traceback (most recent call last)",
            "\u001b[0;32m<ipython-input-6-d9c7f57b14aa>\u001b[0m in \u001b[0;36m<cell line: 0>\u001b[0;34m()\u001b[0m\n\u001b[1;32m      1\u001b[0m \u001b[0;31m#Intentar modificar una tupla (esto causa un error)\u001b[0m\u001b[0;34m\u001b[0m\u001b[0;34m\u001b[0m\u001b[0m\n\u001b[0;32m----> 2\u001b[0;31m \u001b[0mmoneda\u001b[0m\u001b[0;34m[\u001b[0m\u001b[0;36m0\u001b[0m\u001b[0;34m]\u001b[0m \u001b[0;34m=\u001b[0m \u001b[0;34m\"Dólar\"\u001b[0m\u001b[0;34m\u001b[0m\u001b[0;34m\u001b[0m\u001b[0m\n\u001b[0m",
            "\u001b[0;31mTypeError\u001b[0m: 'tuple' object does not support item assignment"
          ]
        }
      ]
    },
    {
      "cell_type": "markdown",
      "source": [
        "##Sección 3: Conjuntos\n",
        "\n",
        "Los conjuntos (`set`) son colecciones desordenadas y no permiten elementos duplicados. Se definen con llaves `{}` o usando `set()`.\n",
        "Son muy útiles cuando necesitamos comprobar la pertenencia o eliminar duplicados."
      ],
      "metadata": {
        "id": "Zm1uDQaHxWmh"
      },
      "id": "Zm1uDQaHxWmh"
    },
    {
      "cell_type": "code",
      "source": [
        "#Crear un conjunto\n",
        "clientes = {\"Ana\", \"Luis\", \"Ana\", \"Carlos\"}\n",
        "print(\"Clientes únicos:\", clientes)\n",
        "\n",
        "#Añadir un elemento\n",
        "clientes.add(\"Marta\")\n",
        "print(\"Clientes actualizados:\", clientes)\n",
        "\n",
        "#Verificar pertenencia\n",
        "print(\"¿Está Ana?\", \"Ana\" in clientes)"
      ],
      "metadata": {
        "id": "QcN3-E1uxpui",
        "outputId": "045cfab8-2880-4e94-ba93-be88dfca0f90",
        "colab": {
          "base_uri": "https://localhost:8080/"
        }
      },
      "id": "QcN3-E1uxpui",
      "execution_count": 8,
      "outputs": [
        {
          "output_type": "stream",
          "name": "stdout",
          "text": [
            "Clientes únicos: {'Carlos', 'Luis', 'Ana'}\n",
            "Clientes actualizados: {'Carlos', 'Luis', 'Marta', 'Ana'}\n",
            "¿Está Ana? True\n"
          ]
        }
      ]
    },
    {
      "cell_type": "markdown",
      "source": [
        "##Sección 4: Diccionarios\n",
        "\n",
        "Los diccionarios permiten almacenar pares clave-valor. Se definen con llaves `{}` y son ideales para representar entidades con atributos, como por ejemplo un producto con su precio."
      ],
      "metadata": {
        "id": "SaD5Ysp2xxa8"
      },
      "id": "SaD5Ysp2xxa8"
    },
    {
      "cell_type": "code",
      "source": [
        "#Crear un diccionario\n",
        "producto = {\"nombre\": \"Portátil\", \"precio\": 899.99, \"stock\": 20}\n",
        "print(\"Producto:\", producto)\n",
        "\n",
        "#Acceder a un valor por su clave\n",
        "print(\"Precio del producto:\", producto[\"precio\"])\n",
        "\n",
        "#Modificar un valor\n",
        "producto[\"stock\"] = 18\n",
        "print(\"Stock actualizado:\", producto)\n",
        "\n",
        "#Añadir un nuevo par clave-valor\n",
        "producto[\"categoría\"] = \"Electrónica\"\n",
        "print(\"Producto completo:\", producto)"
      ],
      "metadata": {
        "id": "7hFeWDegxwqD",
        "outputId": "44e24d72-6826-43d5-e2cf-e4a86e307f22",
        "colab": {
          "base_uri": "https://localhost:8080/"
        }
      },
      "id": "7hFeWDegxwqD",
      "execution_count": 9,
      "outputs": [
        {
          "output_type": "stream",
          "name": "stdout",
          "text": [
            "Producto: {'nombre': 'Portátil', 'precio': 899.99, 'stock': 20}\n",
            "Precio del producto: 899.99\n",
            "Stock actualizado: {'nombre': 'Portátil', 'precio': 899.99, 'stock': 18}\n",
            "Producto completo: {'nombre': 'Portátil', 'precio': 899.99, 'stock': 18, 'categoría': 'Electrónica'}\n"
          ]
        }
      ]
    },
    {
      "cell_type": "markdown",
      "source": [
        "#MÓDULO 4: EJERCICIOS\n",
        "\n",
        "1. Crea una lista con 3 servicios que ofrece una empresa. Añade uno más y elimina el segundo.\n",
        "2. Define una tupla con el nombre de una empresa y su año de fundación.\n",
        "3. A partir de una lista con nombres repetidos, crea un conjunto con nombres únicos.\n",
        "4. Crea un diccionario con los datos de un cliente: nombre, edad y email.\n",
        "5. Modifica el email del cliente y añade su número de teléfono."
      ],
      "metadata": {
        "id": "-uqmPmQeyBx1"
      },
      "id": "-uqmPmQeyBx1"
    },
    {
      "cell_type": "code",
      "source": [
        "#Puedes usar esta celda para resolverlos:\n",
        "\n",
        "#1\n",
        "servicios = [\"Consultoría\", \"Marketing\", \"Formación\"]\n",
        "servicios.append(\"Finanzas\")\n",
        "del servicios[1]\n",
        "\n",
        "#2\n",
        "empresa_info = (\"EmpresaX\", 2010)\n",
        "\n",
        "#3\n",
        "nombres = [\"Ana\", \"Luis\", \"Ana\", \"Carlos\", \"Luis\"]\n",
        "nombres_unicos = set(nombres)\n",
        "\n",
        "#4\n",
        "cliente = {\"nombre\": \"María\", \"edad\": 30, \"email\": \"maria@correo.com\"}\n",
        "\n",
        "#5\n",
        "cliente[\"email\"] = \"maria.nueva@correo.com\"\n",
        "cliente[\"telefono\"] = \"600123456\""
      ],
      "metadata": {
        "id": "9vI8Hx6yx96M"
      },
      "id": "9vI8Hx6yx96M",
      "execution_count": 11,
      "outputs": []
    }
  ],
  "metadata": {
    "colab": {
      "provenance": []
    },
    "language_info": {
      "name": "python"
    },
    "kernelspec": {
      "name": "python3",
      "display_name": "Python 3"
    }
  },
  "nbformat": 4,
  "nbformat_minor": 5
}