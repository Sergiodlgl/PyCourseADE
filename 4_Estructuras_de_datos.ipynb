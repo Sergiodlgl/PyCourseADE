{
  "cells": [
    {
      "cell_type": "markdown",
      "source": [
        "|Módulo anterior|Índice|Módulo siguiente|\n",
        "|-------|-----------|-----------------|\n",
        "|[3.Funciones](https://colab.research.google.com/github/Sergiodlgl/PyCourseADE/blob/main/3_Funciones.ipynb)|[Introducción](https://colab.research.google.com/github/Sergiodlgl/PyCourseADE/blob/main/0_Introducción_a_Jupyter_notebooks.ipynb)|[5.Entradas y salidas](https://colab.research.google.com/github/Sergiodlgl/PyCourseADE/blob/main/5_Entradas_y_salidas.ipynb)|"
      ],
      "metadata": {
        "id": "RGDnPxMxiECz"
      },
      "id": "RGDnPxMxiECz"
    },
    {
      "cell_type": "markdown",
      "source": [
        "#MÓDULO 4: ESTRUCTURAS DE DATOS\n",
        "\n",
        "En este módulo aprenderás a trabajar con las principales estructuras de datos que ofrece Python: listas, tuplas, conjuntos y diccionarios. Estas estructuras permiten almacenar y organizar colecciones de datos, lo que resulta fundamental para tareas como el análisis financiero, la gestión de clientes o el procesamiento de datos. Veremos cómo crearlas, acceder a sus elementos y modificarlas con ejemplos prácticos enfocados al ámbito de ADE.\n"
      ],
      "metadata": {
        "id": "S0ZM1ecTwRrC"
      },
      "id": "S0ZM1ecTwRrC"
    },
    {
      "cell_type": "markdown",
      "source": [
        "##Sección 1: Listas\n",
        "\n",
        "Las listas son colecciones ordenadas y modificables. Se definen con corchetes `[]` y pueden contener distintos tipos de datos.\n",
        "Permiten añadir, eliminar y modificar elementos. Son muy utilizadas en programación por su flexibilidad."
      ],
      "metadata": {
        "id": "M4XwpeyawYYt"
      },
      "id": "M4XwpeyawYYt"
    },
    {
      "cell_type": "code",
      "source": [
        "# Crear una lista\n",
        "productos = [\"Ordenador\", \"Ratón\", \"Teclado\"]\n",
        "print(\"Lista de productos:\", productos)\n",
        "\n",
        "#Acceder a elementos\n",
        "print(\"Primer producto:\", productos[0])\n",
        "\n",
        "#Modificar un elemento\n",
        "productos[1] = \"Mouse\"\n",
        "print(\"Lista modificada:\", productos)\n",
        "\n",
        "#Añadir y eliminar elementos\n",
        "productos.append(\"Monitor\")\n",
        "productos.remove(\"Teclado\")\n",
        "print(\"Lista final:\", productos)"
      ],
      "metadata": {
        "id": "znwSArVhwWYn"
      },
      "id": "znwSArVhwWYn",
      "execution_count": null,
      "outputs": []
    },
    {
      "cell_type": "markdown",
      "source": [
        "##Sección 2: Tuplas\n",
        "\n",
        "Las tuplas son colecciones ordenadas pero inmutables (no se pueden modificar una vez creadas). Se definen con paréntesis `()`.\n",
        "Son útiles cuando se quiere asegurar que los datos no se alteren accidentalmente, como por ejemplo las coordenadas o ciertos datos constantes."
      ],
      "metadata": {
        "id": "NucUedfPw_u-"
      },
      "id": "NucUedfPw_u-"
    },
    {
      "cell_type": "code",
      "source": [
        "#Crear una tupla\n",
        "moneda = (\"Euro\", \"€\")\n",
        "print(\"Tupla:\", moneda)\n",
        "\n",
        "#Acceder a elementos\n",
        "print(\"Nombre de la moneda:\", moneda[0])\n",
        "print(\"Símbolo:\", moneda[1])"
      ],
      "metadata": {
        "id": "9lrFtrQFxFfe"
      },
      "id": "9lrFtrQFxFfe",
      "execution_count": null,
      "outputs": []
    },
    {
      "cell_type": "code",
      "source": [
        "#Intentar modificar una tupla (esto causa un error)\n",
        "moneda[0] = \"Dólar\""
      ],
      "metadata": {
        "id": "NVJr-ABMxYS3"
      },
      "id": "NVJr-ABMxYS3",
      "execution_count": null,
      "outputs": []
    },
    {
      "cell_type": "markdown",
      "source": [
        "##Sección 3: Conjuntos\n",
        "\n",
        "Los conjuntos (`set`) son colecciones desordenadas y no permiten elementos duplicados. Se definen con llaves `{}` o usando `set()`.\n",
        "Son muy útiles cuando necesitamos comprobar la pertenencia o eliminar duplicados."
      ],
      "metadata": {
        "id": "Zm1uDQaHxWmh"
      },
      "id": "Zm1uDQaHxWmh"
    },
    {
      "cell_type": "code",
      "source": [
        "#Crear un conjunto\n",
        "clientes = {\"Ana\", \"Luis\", \"Ana\", \"Carlos\"}\n",
        "print(\"Clientes únicos:\", clientes)\n",
        "\n",
        "#Añadir un elemento\n",
        "clientes.add(\"Marta\")\n",
        "print(\"Clientes actualizados:\", clientes)\n",
        "\n",
        "#Verificar pertenencia\n",
        "print(\"¿Está Ana?\", \"Ana\" in clientes)"
      ],
      "metadata": {
        "id": "QcN3-E1uxpui"
      },
      "id": "QcN3-E1uxpui",
      "execution_count": null,
      "outputs": []
    },
    {
      "cell_type": "markdown",
      "source": [
        "##Sección 4: Diccionarios\n",
        "\n",
        "Los diccionarios permiten almacenar pares clave-valor. Se definen con llaves `{}` y son ideales para representar entidades con atributos, como por ejemplo un producto con su precio."
      ],
      "metadata": {
        "id": "SaD5Ysp2xxa8"
      },
      "id": "SaD5Ysp2xxa8"
    },
    {
      "cell_type": "code",
      "source": [
        "#Crear un diccionario\n",
        "producto = {\"nombre\": \"Portátil\", \"precio\": 899.99, \"stock\": 20}\n",
        "print(\"Producto:\", producto)\n",
        "\n",
        "#Acceder a un valor por su clave\n",
        "print(\"Precio del producto:\", producto[\"precio\"])\n",
        "\n",
        "#Modificar un valor\n",
        "producto[\"stock\"] = 18\n",
        "print(\"Stock actualizado:\", producto)\n",
        "\n",
        "#Añadir un nuevo par clave-valor\n",
        "producto[\"categoría\"] = \"Electrónica\"\n",
        "print(\"Producto completo:\", producto)"
      ],
      "metadata": {
        "id": "7hFeWDegxwqD"
      },
      "id": "7hFeWDegxwqD",
      "execution_count": null,
      "outputs": []
    },
    {
      "cell_type": "markdown",
      "source": [
        "#MÓDULO 4: EJERCICIOS\n",
        "\n",
        "1. Crea una lista con 3 servicios que ofrece una empresa. Añade uno más y elimina el segundo.\n",
        "2. Define una tupla con el nombre de una empresa y su año de fundación.\n",
        "3. A partir de una lista con nombres repetidos, crea un conjunto con nombres únicos.\n",
        "4. Crea un diccionario con los datos de un cliente: nombre, edad y email.\n",
        "5. Modifica el email del cliente y añade su número de teléfono."
      ],
      "metadata": {
        "id": "-uqmPmQeyBx1"
      },
      "id": "-uqmPmQeyBx1"
    },
    {
      "cell_type": "code",
      "source": [
        "#EJECUTA ESTA CELDA PARA PODER COMPROBAR LOS RESULTADOS DE LOS EJERCICIOS\n",
        "!wget -O tests_curso.py https://raw.githubusercontent.com/Sergiodlgl/PyCourseADE/main/data/tests_curso.py\n",
        "import tests_curso"
      ],
      "metadata": {
        "id": "AONETenV2OiS"
      },
      "execution_count": null,
      "outputs": [],
      "id": "AONETenV2OiS"
    },
    {
      "cell_type": "markdown",
      "source": [
        "## Ejercicio 3: Cálculo de Customer Livetime Value (CLV)\n",
        "\n",
        "Para este ejercicio debes definir una función que calcule el CLV de un cliente.\n",
        "El CLV se calcula según la siguiente formula:\n",
        "\n",
        "$$\\text{CLV = }\\sum_{i=1}^{N} \\frac{Beneficios\\ netos_i}{(1 + d)^i}$$\n",
        "\n",
        "donde:\n",
        "* d es la tasa de descuento\n",
        "* i es el perido\n",
        "* N es el año final\n",
        "\n",
        "Como argumento de entrada se recive una TUPLA DE LISTAS y la TASA DE DESCUENTO, donde cada tupla representa los (ingresos,costes) de un cliente desde el año 1 hasta el año N. Por ejemplo:\n",
        "```\n",
        "    lista_ingresos_costes=[(1000, 400), (1200, 500), (1500, 700)]ç\n",
        "    tasa_descuento = 0.1\n",
        "```\n",
        "El resultado de esa entrada sería:\n",
        "```\n",
        "    clv = 1725.018783\n",
        "```"
      ],
      "metadata": {
        "id": "ytGnIu8Y5kuI"
      },
      "id": "ytGnIu8Y5kuI"
    },
    {
      "cell_type": "code",
      "source": [
        "def calcular_clv(lista_ingresos_costes, tasa_descuento):\n",
        "    # Tu código aquí\n",
        "\n",
        "# COMPROBACIÓN DE LOS RESULTADOS\n",
        "tests_curso.test_calcular_clv(calcular_clv)"
      ],
      "metadata": {
        "id": "onDlnvICv_Xo"
      },
      "execution_count": null,
      "outputs": [],
      "id": "onDlnvICv_Xo"
    },
    {
      "cell_type": "code",
      "source": [],
      "metadata": {
        "id": "qsQZccbcC4Z6"
      },
      "id": "qsQZccbcC4Z6",
      "execution_count": null,
      "outputs": []
    },
    {
      "cell_type": "code",
      "source": [],
      "metadata": {
        "id": "e0avvrFPC4tQ"
      },
      "id": "e0avvrFPC4tQ",
      "execution_count": null,
      "outputs": []
    },
    {
      "cell_type": "code",
      "source": [],
      "metadata": {
        "id": "6ruIoCNvC6fX"
      },
      "id": "6ruIoCNvC6fX",
      "execution_count": null,
      "outputs": []
    },
    {
      "cell_type": "code",
      "source": [],
      "metadata": {
        "id": "vyl7uj6zC6iJ"
      },
      "id": "vyl7uj6zC6iJ",
      "execution_count": null,
      "outputs": []
    },
    {
      "cell_type": "code",
      "source": [],
      "metadata": {
        "id": "2vmWoEI9C6kl"
      },
      "id": "2vmWoEI9C6kl",
      "execution_count": null,
      "outputs": []
    },
    {
      "cell_type": "code",
      "source": [
        "#Puedes usar esta celda para resolverlos:\n",
        "\n",
        "#1\n",
        "servicios = [\"Consultoría\", \"Marketing\", \"Formación\"]\n",
        "servicios.append(\"Finanzas\")\n",
        "del servicios[1]\n",
        "\n",
        "#2\n",
        "empresa_info = (\"EmpresaX\", 2010)\n",
        "\n",
        "#3\n",
        "nombres = [\"Ana\", \"Luis\", \"Ana\", \"Carlos\", \"Luis\"]\n",
        "nombres_unicos = set(nombres)\n",
        "\n",
        "#4\n",
        "cliente = {\"nombre\": \"María\", \"edad\": 30, \"email\": \"maria@correo.com\"}\n",
        "\n",
        "#5\n",
        "cliente[\"email\"] = \"maria.nueva@correo.com\"\n",
        "cliente[\"telefono\"] = \"600123456\""
      ],
      "metadata": {
        "id": "9vI8Hx6yx96M"
      },
      "id": "9vI8Hx6yx96M",
      "execution_count": null,
      "outputs": []
    },
    {
      "cell_type": "markdown",
      "source": [
        "|Módulo anterior|Índice|Módulo siguiente|\n",
        "|-------|-----------|-----------------|\n",
        "|[3.Funciones](https://colab.research.google.com/github/Sergiodlgl/PyCourseADE/blob/main/3_Funciones.ipynb)|[Introducción](https://colab.research.google.com/github/Sergiodlgl/PyCourseADE/blob/main/0_Introducción_a_Jupyter_notebooks.ipynb)|[5.Entradas y salidas](https://colab.research.google.com/github/Sergiodlgl/PyCourseADE/blob/main/5_Entradas_y_salidas.ipynb)|"
      ],
      "metadata": {
        "id": "f4GrclfikRAN"
      },
      "id": "f4GrclfikRAN"
    }
  ],
  "metadata": {
    "colab": {
      "provenance": []
    },
    "language_info": {
      "name": "python"
    },
    "kernelspec": {
      "name": "python3",
      "display_name": "Python 3"
    }
  },
  "nbformat": 4,
  "nbformat_minor": 5
}