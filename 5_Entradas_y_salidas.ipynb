{
  "cells": [
    {
      "cell_type": "markdown",
      "source": [
        "|Módulo anterior|Índice|Módulo siguiente|\n",
        "|-------|-----------|-----------------|\n",
        "|[4.Estructuras de datos](https://colab.research.google.com/github/Sergiodlgl/PyCourseADE/blob/main/4_Estructuras_de_datos.ipynb)|[Introducción](https://colab.research.google.com/github/Sergiodlgl/PyCourseADE/blob/main/0_Introducción_a_Jupyter_notebooks.ipynb)|[6.Librería NumPy](https://colab.research.google.com/github/Sergiodlgl/PyCourseADE/blob/main/6_Libreria_NumPy.ipynb)|"
      ],
      "metadata": {
        "id": "RGDnPxMxiECz"
      },
      "id": "RGDnPxMxiECz"
    },
    {
      "cell_type": "markdown",
      "source": [
        "#MÓDULO 5: ENTRADAS Y SALIDAS\n",
        "\n",
        "En este módulo aprenderás cómo interactuar con el usuario y cómo trabajar con archivos para leer y guardar datos. Veremos cómo usar `input()` para capturar datos del usuario, cómo mostrar información en pantalla con `print()`, y cómo leer y escribir archivos en diferentes formatos como `.txt`, `.csv` o `.json`. Estas habilidades son fundamentales para desarrollar herramientas prácticas, como sistemas de gestión de clientes o informes financieros."
      ],
      "metadata": {
        "id": "gxBvgBj0yjrs"
      },
      "id": "gxBvgBj0yjrs"
    },
    {
      "cell_type": "markdown",
      "source": [
        "##Sección 1: Entrada y salida de datos (`input`, `print`)\n",
        "\n",
        "La función `input()` permite recibir datos escritos por el usuario a través del teclado, y `print()` permite mostrar resultados o mensajes en pantalla."
      ],
      "metadata": {
        "id": "t1ONTgj4ywkZ"
      },
      "id": "t1ONTgj4ywkZ"
    },
    {
      "cell_type": "code",
      "source": [
        "#Entrada de datos\n",
        "nombre = input(\"Introduce tu nombre: \")\n",
        "print(\"¡Hola,\", nombre, \"!\")\n",
        "\n",
        "#Conversión de tipos\n",
        "edad = int(input(\"Introduce tu edad: \"))\n",
        "print(\"Tienes\", edad, \"años\")"
      ],
      "metadata": {
        "id": "RXtrvtCFyuHy",
        "outputId": "7ca9a4ae-4e4b-4ea7-c5ea-fa71e32946c7",
        "colab": {
          "base_uri": "https://localhost:8080/"
        }
      },
      "id": "RXtrvtCFyuHy",
      "execution_count": null,
      "outputs": [
        {
          "output_type": "stream",
          "name": "stdout",
          "text": [
            "Introduce tu nombre: HOLA\n",
            "¡Hola, HOLA !\n",
            "Introduce tu edad: 8\n",
            "Tienes 8 años\n"
          ]
        }
      ]
    },
    {
      "cell_type": "code",
      "source": [
        "#Operación práctica\n",
        "precio = float(input(\"Introduce el precio del producto: \"))\n",
        "cantidad = int(input(\"¿Cuántas unidades?: \"))\n",
        "total = precio * cantidad\n",
        "print(\"Total a pagar:\", total)"
      ],
      "metadata": {
        "id": "ZTaVFjlry-mO"
      },
      "id": "ZTaVFjlry-mO",
      "execution_count": null,
      "outputs": []
    },
    {
      "cell_type": "markdown",
      "source": [
        "##Sección 2: Apertura y lectura de archivos (`open`)\n",
        "\n",
        "Python permite abrir y trabajar con archivos usando la función `open()`. Se puede abrir un archivo en modo lectura (`'r'`), escritura (`'w'`) o añadir contenido (`'a'`)."
      ],
      "metadata": {
        "id": "g5nMAfDjzFgg"
      },
      "id": "g5nMAfDjzFgg"
    },
    {
      "cell_type": "code",
      "source": [
        "#Crear un archivo de texto y escribir\n",
        "with open(\"datos.txt\", \"w\") as archivo:\n",
        "archivo.write(\"Nombre,Edad\\n\")\n",
        "archivo.write(\"Carlos,28\\n\")\n",
        "archivo.write(\"Laura,32\\n\")"
      ],
      "metadata": {
        "id": "j2F6iQGWzQrX",
        "outputId": "abdd5162-c827-4e5d-c3e4-bbf7632b5e72",
        "colab": {
          "base_uri": "https://localhost:8080/",
          "height": 110
        }
      },
      "id": "j2F6iQGWzQrX",
      "execution_count": null,
      "outputs": [
        {
          "output_type": "error",
          "ename": "IndentationError",
          "evalue": "expected an indented block after 'with' statement on line 2 (<ipython-input-2-3495477e067a>, line 3)",
          "traceback": [
            "\u001b[0;36m  File \u001b[0;32m\"<ipython-input-2-3495477e067a>\"\u001b[0;36m, line \u001b[0;32m3\u001b[0m\n\u001b[0;31m    archivo.write(\"Nombre,Edad\\n\")\u001b[0m\n\u001b[0m    ^\u001b[0m\n\u001b[0;31mIndentationError\u001b[0m\u001b[0;31m:\u001b[0m expected an indented block after 'with' statement on line 2\n"
          ]
        }
      ]
    },
    {
      "cell_type": "code",
      "source": [
        "#Leer el archivo línea por línea\n",
        "with open(\"datos.txt\", \"r\") as archivo:\n",
        "for linea in archivo:\n",
        "print(\"Línea:\", linea.strip())"
      ],
      "metadata": {
        "id": "vgHP6RHQzUIv",
        "outputId": "de40f810-73de-4442-f968-02a2f7b7a2ba",
        "colab": {
          "base_uri": "https://localhost:8080/",
          "height": 110
        }
      },
      "id": "vgHP6RHQzUIv",
      "execution_count": null,
      "outputs": [
        {
          "output_type": "error",
          "ename": "IndentationError",
          "evalue": "expected an indented block after 'with' statement on line 2 (<ipython-input-3-9c16f9da9248>, line 3)",
          "traceback": [
            "\u001b[0;36m  File \u001b[0;32m\"<ipython-input-3-9c16f9da9248>\"\u001b[0;36m, line \u001b[0;32m3\u001b[0m\n\u001b[0;31m    for linea in archivo:\u001b[0m\n\u001b[0m    ^\u001b[0m\n\u001b[0;31mIndentationError\u001b[0m\u001b[0;31m:\u001b[0m expected an indented block after 'with' statement on line 2\n"
          ]
        }
      ]
    },
    {
      "cell_type": "markdown",
      "source": [
        "##Sección 3: Tipos de archivos (`.csv`, `.json`)\n",
        "\n",
        "Los archivos `.csv` (valores separados por comas) son muy utilizados para almacenar datos en tablas, mientras que los `.json` son útiles para estructurar información jerárquica.\n",
        "\"\"\""
      ],
      "metadata": {
        "id": "wRhKoJdYzgQQ"
      },
      "id": "wRhKoJdYzgQQ"
    },
    {
      "cell_type": "code",
      "source": [
        "#CSV\n",
        "import csv\n",
        "\n",
        "with open(\"clientes.csv\", \"w\", newline=\"\") as archivo_csv:\n",
        "writer = csv.writer(archivo_csv)\n",
        "writer.writerow([\"Nombre\", \"Email\"])\n",
        "writer.writerow([\"Ana\", \"ana@correo.com\"])\n",
        "writer.writerow([\"Luis\", \"luis@correo.com\"])\n",
        "\n",
        "#Leer archivo CSV\n",
        "\n",
        "with open(\"clientes.csv\", \"r\") as archivo_csv:\n",
        "reader = csv.reader(archivo_csv)\n",
        "for fila in reader:\n",
        "print(\"Fila:\", fila)"
      ],
      "metadata": {
        "id": "erRiRlqlzXNf",
        "outputId": "c125d8a4-846d-4ed4-9266-761c5426be9a",
        "colab": {
          "base_uri": "https://localhost:8080/",
          "height": 110
        }
      },
      "id": "erRiRlqlzXNf",
      "execution_count": null,
      "outputs": [
        {
          "output_type": "error",
          "ename": "IndentationError",
          "evalue": "expected an indented block after 'with' statement on line 5 (<ipython-input-5-6aaca7f7ccf0>, line 6)",
          "traceback": [
            "\u001b[0;36m  File \u001b[0;32m\"<ipython-input-5-6aaca7f7ccf0>\"\u001b[0;36m, line \u001b[0;32m6\u001b[0m\n\u001b[0;31m    writer = csv.writer(archivo_csv)\u001b[0m\n\u001b[0m    ^\u001b[0m\n\u001b[0;31mIndentationError\u001b[0m\u001b[0;31m:\u001b[0m expected an indented block after 'with' statement on line 5\n"
          ]
        }
      ]
    },
    {
      "cell_type": "code",
      "source": [
        "#JSON\n",
        "import json\n",
        "\n",
        "datos = {\"empresa\": \"OpenAI\", \"fundado\": 2015, \"sectores\": [\"IA\", \"Investigación\"]}\n",
        "with open(\"empresa.json\", \"w\") as archivo_json:\n",
        "json.dump(datos, archivo_json)\n",
        "\n",
        "#Leer JSON\n",
        "with open(\"empresa.json\", \"r\") as archivo_json:\n",
        "contenido = json.load(archivo_json)\n",
        "print(\"Empresa:\", contenido[\"empresa\"])\n",
        "print(\"Sectores:\", \", \".join(contenido[\"sectores\"]))"
      ],
      "metadata": {
        "id": "ndHbj9eLzwZd"
      },
      "id": "ndHbj9eLzwZd",
      "execution_count": null,
      "outputs": []
    },
    {
      "cell_type": "markdown",
      "source": [
        "#MÓDULO 5: EJERCICIOS\n",
        "\n",
        "1. Pide al usuario su nombre y edad e imprímelos.\n",
        "2. Calcula el total a pagar por un producto usando input() para precio y cantidad.\n",
        "3. Crea un archivo de texto que contenga una lista de 3 productos con su precio.\n",
        "4. Lee ese archivo e imprime cada línea.\n",
        "5. Crea un archivo .json con datos de una empresa y luego léelo para mostrar su contenido."
      ],
      "metadata": {
        "id": "n86hMPJez5o_"
      },
      "id": "n86hMPJez5o_"
    },
    {
      "cell_type": "code",
      "source": [
        "#Puedes resolverlos aquí:\n",
        "#1\n",
        "nombre = input(\"Nombre: \")\n",
        "edad = int(input(\"Edad: \"))\n",
        "print(f\"Nombre: {nombre}, Edad: {edad}\")\n",
        "\n",
        "#2\n",
        "precio = float(input(\"Precio del producto: \"))\n",
        "cantidad = int(input(\"Cantidad: \"))\n",
        "print(\"Total:\", precio * cantidad)\n",
        "\n",
        "#3\n",
        "with open(\"productos.txt\", \"w\") as f:\n",
        "f.write(\"Producto,Precio\\n\")\n",
        "f.write(\"Ratón,15.99\\n\")\n",
        "f.write(\"Teclado,29.99\\n\")\n",
        "f.write(\"Pantalla,199.99\\n\")\n",
        "\n",
        "#4\n",
        "with open(\"productos.txt\", \"r\") as f:\n",
        "for linea in f:\n",
        "print(\"Producto:\", linea.strip())\n",
        "\n",
        "#5\n",
        "empresa = {\n",
        "\"nombre\": \"TechSolutions\",\n",
        "\"empleados\": 45,\n",
        "\"ubicación\": \"Madrid\"\n",
        "}\n",
        "with open(\"empresa.json\", \"w\") as f:\n",
        "json.dump(empresa, f)\n",
        "\n",
        "with open(\"empresa.json\", \"r\") as f:\n",
        "info = json.load(f)\n",
        "print(\"Nombre:\", info[\"nombre\"])\n",
        "print(\"Ubicación:\", info[\"ubicación\"])"
      ],
      "metadata": {
        "id": "KyWvZrUv0FF5"
      },
      "id": "KyWvZrUv0FF5",
      "execution_count": null,
      "outputs": []
    },
    {
      "cell_type": "markdown",
      "source": [
        "|Módulo anterior|Índice|Módulo siguiente|\n",
        "|-------|-----------|-----------------|\n",
        "|[4.Estructuras de datos](https://colab.research.google.com/github/Sergiodlgl/PyCourseADE/blob/main/4_Estructuras_de_datos.ipynb)|[Introducción](https://colab.research.google.com/github/Sergiodlgl/PyCourseADE/blob/main/0_Introducción_a_Jupyter_notebooks.ipynb)|[6.Librería NumPy](https://colab.research.google.com/github/Sergiodlgl/PyCourseADE/blob/main/6_Libreria_NumPy.ipynb)|"
      ],
      "metadata": {
        "id": "eJs4Bsv8fWSU"
      },
      "id": "eJs4Bsv8fWSU"
    }
  ],
  "metadata": {
    "colab": {
      "provenance": []
    },
    "language_info": {
      "name": "python"
    },
    "kernelspec": {
      "name": "python3",
      "display_name": "Python 3"
    }
  },
  "nbformat": 4,
  "nbformat_minor": 5
}