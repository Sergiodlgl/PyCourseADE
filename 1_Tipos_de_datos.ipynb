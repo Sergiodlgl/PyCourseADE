{
  "cells": [
    {
      "cell_type": "markdown",
      "source": [
        "# MÓDULO 1: TIPOS DE DATOS\n",
        "\n",
        "En este primer módulo aprenderás los fundamentos esenciales de cualquier lenguaje de programación: los tipos de datos.\n",
        "Estudiaremos cómo definir variables y utilizarlas con números, texto y valores lógicos. Además, realizaremos operaciones básicas\n",
        "para entender cómo manipular estos datos en Python."
      ],
      "metadata": {
        "id": "UkiG7mjXm3kJ"
      },
      "id": "UkiG7mjXm3kJ"
    },
    {
      "cell_type": "markdown",
      "source": [
        "## Sección 1: Variables\n",
        "\n",
        "Las variables son contenedores que nos permiten almacenar información que luego podremos utilizar y modificar.\n",
        "En Python, no es necesario declarar el tipo de variable explícitamente, ya que el lenguaje lo detecta automáticamente según el valor que le asignemos."
      ],
      "metadata": {
        "id": "3887GHOpnElZ"
      },
      "id": "3887GHOpnElZ"
    },
    {
      "cell_type": "code",
      "source": [
        "empresa = \"Paco S.L.\"\n",
        "año_fundacion = 2025\n",
        "\n",
        "print(\"La empresa\", empresa, \"fue fundada en el año\", año_fundacion)"
      ],
      "metadata": {
        "id": "767bJv7rm6Ti",
        "outputId": "558882e1-aabf-4f9c-a7be-deda06a736be",
        "colab": {
          "base_uri": "https://localhost:8080/"
        }
      },
      "id": "767bJv7rm6Ti",
      "execution_count": 4,
      "outputs": [
        {
          "output_type": "stream",
          "name": "stdout",
          "text": [
            "La empresa Paco S.L. fue fundada en el año 2025\n"
          ]
        }
      ]
    },
    {
      "cell_type": "markdown",
      "source": [
        "## Sección 2: Tipos numéricos\n",
        "\n",
        "Python permite trabajar con números enteros (`int`) y números decimales (`float`). Estos tipos de datos son esenciales para realizar cálculos y operaciones matemáticas.\n",
        "\n"
      ],
      "metadata": {
        "id": "e-HRSH3Unlhw"
      },
      "id": "e-HRSH3Unlhw"
    },
    {
      "cell_type": "code",
      "source": [
        "entero = 100\n",
        "decimal = 12.5\n",
        "\n",
        "print(\"Entero:\", entero, \"Tipo:\", type(entero))\n",
        "print(\"Decimal:\", decimal, \"Tipo:\", type(decimal))"
      ],
      "metadata": {
        "id": "KatJ5yHBn5L-",
        "outputId": "ba089042-5d23-4d97-9cfb-33d49f7040c8",
        "colab": {
          "base_uri": "https://localhost:8080/"
        }
      },
      "id": "KatJ5yHBn5L-",
      "execution_count": 5,
      "outputs": [
        {
          "output_type": "stream",
          "name": "stdout",
          "text": [
            "Entero: 100 Tipo: <class 'int'>\n",
            "Decimal: 12.5 Tipo: <class 'float'>\n"
          ]
        }
      ]
    },
    {
      "cell_type": "markdown",
      "source": [
        "## Sección 3: Tipo de texto\n",
        "\n",
        "Las cadenas de texto (`str`) se utilizan para representar palabras, frases y cualquier tipo de texto.\n",
        "Se pueden manipular mediante operadores como `+` y métodos como `.upper()` para convertir en mayúsculas.\n"
      ],
      "metadata": {
        "id": "bPqYnVPQoSEk"
      },
      "id": "bPqYnVPQoSEk"
    },
    {
      "cell_type": "code",
      "source": [
        "saludo = \"Hola\"\n",
        "nombre = \"Carlos\"\n",
        "mensaje = saludo + \", \" + nombre + \"!\"\n",
        "\n",
        "print(mensaje)"
      ],
      "metadata": {
        "id": "gtFBAczJn9pY",
        "outputId": "71851c2f-711d-4d52-df74-6b9eba8aa95b",
        "colab": {
          "base_uri": "https://localhost:8080/"
        }
      },
      "id": "gtFBAczJn9pY",
      "execution_count": 6,
      "outputs": [
        {
          "output_type": "stream",
          "name": "stdout",
          "text": [
            "Hola, Carlos!\n"
          ]
        }
      ]
    },
    {
      "cell_type": "code",
      "source": [
        "# Método útil de str\n",
        "\n",
        "producto = \"Portátil\"\n",
        "print(producto.upper())  # Mayúsculas"
      ],
      "metadata": {
        "id": "DLJv4sSToXAs",
        "outputId": "0aff1805-1556-438f-a170-0d3caf81ba7f",
        "colab": {
          "base_uri": "https://localhost:8080/"
        }
      },
      "id": "DLJv4sSToXAs",
      "execution_count": 8,
      "outputs": [
        {
          "output_type": "stream",
          "name": "stdout",
          "text": [
            "PORTÁTIL\n"
          ]
        }
      ]
    },
    {
      "cell_type": "markdown",
      "source": [
        "## Sección 4: Booleanos\n",
        "\n",
        "Los valores booleanos (`bool`) solo pueden ser `True` (verdadero) o `False` (falso). Son útiles para representar condiciones y tomar decisiones en el código.\n"
      ],
      "metadata": {
        "id": "8j4cDDVUodef"
      },
      "id": "8j4cDDVUodef"
    },
    {
      "cell_type": "code",
      "source": [
        "es_estudiante = True\n",
        "\n",
        "edad = 16\n",
        "es_mayor_edad = edad >= 18\n",
        "\n",
        "print(\"¿Es estudiante?\", es_estudiante)\n",
        "print(\"¿Es mayor de edad?\", es_mayor_edad)"
      ],
      "metadata": {
        "id": "_g5Tgi9tobbG",
        "outputId": "81d55916-1493-4035-80f6-cd9c49828cb6",
        "colab": {
          "base_uri": "https://localhost:8080/"
        }
      },
      "id": "_g5Tgi9tobbG",
      "execution_count": 12,
      "outputs": [
        {
          "output_type": "stream",
          "name": "stdout",
          "text": [
            "¿Es estudiante? True\n",
            "¿Es mayor de edad? False\n"
          ]
        }
      ]
    },
    {
      "cell_type": "markdown",
      "source": [
        "## Sección 5: Operaciones básicas\n",
        "\n",
        "Podemos realizar operaciones matemáticas básicas en Python con operadores como `+`, `-`, `*`, `/`, `//` (división entera), `%` (módulo) y `**` (potencia).\n",
        "Estas operaciones son fundamentales para cualquier cálculo o análisis."
      ],
      "metadata": {
        "id": "uFP04dgCo2bp"
      },
      "id": "uFP04dgCo2bp"
    },
    {
      "cell_type": "code",
      "source": [
        "x = 10\n",
        "y = 3\n",
        "print(\"---  x:\",x,\" --  y:\",y,\" ---\")\n",
        "print(\"Suma:\", x + y)\n",
        "print(\"Resta:\", x - y)\n",
        "print(\"Multiplicación:\", x * y)\n",
        "print(\"División:\", x / y)\n",
        "print(\"División entera:\", x // y)\n",
        "print(\"Módulo:\", x % y)\n",
        "print(\"Potencia:\", x ** y)"
      ],
      "metadata": {
        "id": "KeO_OwKBot6e",
        "outputId": "af743b1d-1e1f-42b1-b2a8-d2248d26454a",
        "colab": {
          "base_uri": "https://localhost:8080/"
        }
      },
      "id": "KeO_OwKBot6e",
      "execution_count": 18,
      "outputs": [
        {
          "output_type": "stream",
          "name": "stdout",
          "text": [
            "---  x: 10  --  y: 3  ---\n",
            "Suma: 13\n",
            "Resta: 7\n",
            "Multiplicación: 30\n",
            "División: 3.3333333333333335\n",
            "División entera: 3\n",
            "Módulo: 1\n",
            "Potencia: 1000\n"
          ]
        }
      ]
    },
    {
      "cell_type": "markdown",
      "source": [
        "# MÓDULO 1: EJERCIOS"
      ],
      "metadata": {
        "id": "A4D8SD72puGf"
      },
      "id": "A4D8SD72puGf"
    },
    {
      "cell_type": "markdown",
      "source": [
        "1. Declara una variable con tu nombre y otra con tu edad. Imprímelas.\n",
        "2. Calcula el total a pagar por 7 productos que valen 4.75 euros cada uno.\n",
        "3. Convierte a mayúsculas el nombre de una empresa que introduzcas como string.\n",
        "4. Comprueba si una persona con edad 17 es mayor de edad usando un booleano.\n",
        "5. Calcula el beneficio de una empresa con ingresos de 3200 y gastos de 1800."
      ],
      "metadata": {
        "id": "l4Z16Pysp7gW"
      },
      "id": "l4Z16Pysp7gW"
    },
    {
      "cell_type": "code",
      "source": [
        "#Utiliza está celda para escribir tus soluciones"
      ],
      "metadata": {
        "id": "2WvLm3ksp_Jq"
      },
      "id": "2WvLm3ksp_Jq",
      "execution_count": null,
      "outputs": []
    }
  ],
  "metadata": {
    "colab": {
      "provenance": []
    },
    "language_info": {
      "name": "python"
    },
    "kernelspec": {
      "name": "python3",
      "display_name": "Python 3"
    }
  },
  "nbformat": 4,
  "nbformat_minor": 5
}