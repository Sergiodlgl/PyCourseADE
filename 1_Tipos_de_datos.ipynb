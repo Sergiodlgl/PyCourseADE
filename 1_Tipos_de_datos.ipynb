{
  "cells": [
    {
      "cell_type": "markdown",
      "source": [
        "|Módulo anterior|Índice|Módulo siguiente|\n",
        "|-------|-----------|-----------------|\n",
        "||[Introducción](https://colab.research.google.com/github/Sergiodlgl/PyCourseADE/blob/main/0_Introducción_a_Jupyter_notebooks.ipynb)|[2.Control de flujo](https://colab.research.google.com/github/Sergiodlgl/PyCourseADE/blob/main/2_Control_de_flujo.ipynb)|"
      ],
      "metadata": {
        "id": "RGDnPxMxiECz"
      },
      "id": "RGDnPxMxiECz"
    },
    {
      "cell_type": "markdown",
      "source": [
        "# MÓDULO 1: TIPOS DE DATOS\n",
        "\n",
        "En este primer módulo aprenderás los fundamentos esenciales de cualquier lenguaje de programación: los tipos de datos.\n",
        "Estudiaremos cómo definir variables y utilizarlas con números, texto y valores lógicos. Además, realizaremos operaciones básicas\n",
        "para entender cómo manipular estos datos en Python."
      ],
      "metadata": {
        "id": "UkiG7mjXm3kJ"
      },
      "id": "UkiG7mjXm3kJ"
    },
    {
      "cell_type": "markdown",
      "source": [
        "## Sección 1: Variables\n",
        "\n",
        "Las variables son contenedores que nos permiten almacenar información que luego podremos utilizar y modificar.\n",
        "En Python, no es necesario declarar el tipo de variable explícitamente, ya que el lenguaje lo detecta automáticamente según el valor que le asignemos."
      ],
      "metadata": {
        "id": "3887GHOpnElZ"
      },
      "id": "3887GHOpnElZ"
    },
    {
      "cell_type": "code",
      "source": [
        "# descripción de variables\n",
        "empresa = \"Paco S.L.\"\n",
        "año_fundacion = 2025\n",
        "\n",
        "# uso de variables\n",
        "print(\"La empresa\", empresa, \"fue fundada en el año\", año_fundacion)"
      ],
      "metadata": {
        "id": "767bJv7rm6Ti",
        "outputId": "7f5948a1-d51b-4084-9660-1f3764bb50b5",
        "colab": {
          "base_uri": "https://localhost:8080/"
        }
      },
      "id": "767bJv7rm6Ti",
      "execution_count": 1,
      "outputs": [
        {
          "output_type": "stream",
          "name": "stdout",
          "text": [
            "La empresa Paco S.L. fue fundada en el año 2025\n"
          ]
        }
      ]
    },
    {
      "cell_type": "markdown",
      "source": [
        "<img src=\"https://github.com/Sergiodlgl/PyCourseADE/raw/main/data/datin.png\"  width=\"50px\" style=\"width: 50px;padding-right:5px;padding-top:2px;padding-left:5px;\" align=\"left\"/>\n",
        "\n",
        "*¿Quieres un datín de Datín? Si quieres que tus nombres sean reconocibles, hazlos reconocibles. Los programadores recomiendan usar las minusculas y escribir nombres descriptivos. Si lo necesitas, puedes usar '_'.*"
      ],
      "metadata": {
        "id": "BlgU7NnwSKOV"
      },
      "id": "BlgU7NnwSKOV"
    },
    {
      "cell_type": "code",
      "source": [
        "# evita usar nombres como:\n",
        "x = 8\n",
        "\n",
        "# mejor piensa como lo describirias:\n",
        "edad_datin = 7\n",
        "\n",
        "# prueba a declarar alguna variable:\n"
      ],
      "metadata": {
        "id": "yxUCv0fIZiEL"
      },
      "id": "yxUCv0fIZiEL",
      "execution_count": 2,
      "outputs": []
    },
    {
      "cell_type": "markdown",
      "source": [
        "## Sección 2: Tipos numéricos\n",
        "\n",
        "Python permite trabajar con números enteros (`int`) y números decimales (`float`). Estos tipos de datos son esenciales para realizar cálculos y operaciones matemáticas.\n",
        "\n"
      ],
      "metadata": {
        "id": "e-HRSH3Unlhw"
      },
      "id": "e-HRSH3Unlhw"
    },
    {
      "cell_type": "code",
      "source": [
        "entero = 100\n",
        "decimal = 12.5\n",
        "\n",
        "print(\"Entero:\", entero, \"Tipo:\", type(entero))\n",
        "print(\"Decimal:\", decimal, \"Tipo:\", type(decimal))"
      ],
      "metadata": {
        "id": "KatJ5yHBn5L-",
        "outputId": "55d12e61-6eea-4d19-b2d2-6afd53f2a37b",
        "colab": {
          "base_uri": "https://localhost:8080/"
        }
      },
      "id": "KatJ5yHBn5L-",
      "execution_count": 3,
      "outputs": [
        {
          "output_type": "stream",
          "name": "stdout",
          "text": [
            "Entero: 100 Tipo: <class 'int'>\n",
            "Decimal: 12.5 Tipo: <class 'float'>\n"
          ]
        }
      ]
    },
    {
      "cell_type": "markdown",
      "source": [
        "## Sección 3: Tipo de texto\n",
        "\n",
        "Las cadenas de texto (`str`) se utilizan para representar palabras, frases y cualquier tipo de texto.\n",
        "Se pueden manipular mediante operadores como `+` y métodos como `.upper()` para convertir en mayúsculas.\n"
      ],
      "metadata": {
        "id": "bPqYnVPQoSEk"
      },
      "id": "bPqYnVPQoSEk"
    },
    {
      "cell_type": "code",
      "source": [
        "saludo = \"Hola\"\n",
        "nombre = \"Carlos\"\n",
        "mensaje = saludo + \", \" + nombre + \"!\"\n",
        "\n",
        "print(mensaje)"
      ],
      "metadata": {
        "id": "gtFBAczJn9pY",
        "outputId": "8c9e687d-b292-45b4-fc80-e55c39dbdb2f",
        "colab": {
          "base_uri": "https://localhost:8080/"
        }
      },
      "id": "gtFBAczJn9pY",
      "execution_count": 4,
      "outputs": [
        {
          "output_type": "stream",
          "name": "stdout",
          "text": [
            "Hola, Carlos!\n"
          ]
        }
      ]
    },
    {
      "cell_type": "code",
      "source": [
        "# Método útil de str\n",
        "\n",
        "producto = \"Portátil\"\n",
        "print(producto.upper())  # Mayúsculas"
      ],
      "metadata": {
        "id": "DLJv4sSToXAs",
        "outputId": "dfed20bb-90cf-49f7-a7a9-47e77adabf2d",
        "colab": {
          "base_uri": "https://localhost:8080/"
        }
      },
      "id": "DLJv4sSToXAs",
      "execution_count": 5,
      "outputs": [
        {
          "output_type": "stream",
          "name": "stdout",
          "text": [
            "PORTÁTIL\n"
          ]
        }
      ]
    },
    {
      "cell_type": "markdown",
      "source": [
        "## Sección 4: Booleanos\n",
        "\n",
        "Los valores booleanos (`bool`) solo pueden ser `True` (verdadero) o `False` (falso). Son útiles para representar condiciones y tomar decisiones en el código.\n"
      ],
      "metadata": {
        "id": "8j4cDDVUodef"
      },
      "id": "8j4cDDVUodef"
    },
    {
      "cell_type": "code",
      "source": [
        "es_estudiante = True\n",
        "\n",
        "edad = 16\n",
        "es_mayor_edad = edad >= 18\n",
        "\n",
        "print(\"¿Es estudiante?\", es_estudiante)\n",
        "print(\"¿Es mayor de edad?\", es_mayor_edad)"
      ],
      "metadata": {
        "id": "_g5Tgi9tobbG",
        "outputId": "2e3a57f8-e4d0-4ad3-aea9-55479bf3a1df",
        "colab": {
          "base_uri": "https://localhost:8080/"
        }
      },
      "id": "_g5Tgi9tobbG",
      "execution_count": 6,
      "outputs": [
        {
          "output_type": "stream",
          "name": "stdout",
          "text": [
            "¿Es estudiante? True\n",
            "¿Es mayor de edad? False\n"
          ]
        }
      ]
    },
    {
      "cell_type": "markdown",
      "source": [
        "## Sección 5: Operaciones básicas\n",
        "\n",
        "Podemos realizar operaciones matemáticas básicas en Python con operadores como `+`, `-`, `*`, `/`, `//` (división entera), `%` (módulo) y `**` (potencia).\n",
        "Estas operaciones son fundamentales para cualquier cálculo o análisis."
      ],
      "metadata": {
        "id": "uFP04dgCo2bp"
      },
      "id": "uFP04dgCo2bp"
    },
    {
      "cell_type": "code",
      "source": [
        "x = 10\n",
        "y = 3\n",
        "print(\"---  x:\",x,\" --  y:\",y,\" ---\")\n",
        "print(\"Suma:\", x + y)\n",
        "print(\"Resta:\", x - y)\n",
        "print(\"Multiplicación:\", x * y)\n",
        "print(\"División:\", x / y)\n",
        "print(\"División entera:\", x // y)\n",
        "print(\"Módulo:\", x % y)\n",
        "print(\"Potencia:\", x ** y)"
      ],
      "metadata": {
        "id": "KeO_OwKBot6e",
        "outputId": "24a18b7d-4abc-4fa1-d734-9603595ba261",
        "colab": {
          "base_uri": "https://localhost:8080/"
        }
      },
      "id": "KeO_OwKBot6e",
      "execution_count": 7,
      "outputs": [
        {
          "output_type": "stream",
          "name": "stdout",
          "text": [
            "---  x: 10  --  y: 3  ---\n",
            "Suma: 13\n",
            "Resta: 7\n",
            "Multiplicación: 30\n",
            "División: 3.3333333333333335\n",
            "División entera: 3\n",
            "Módulo: 1\n",
            "Potencia: 1000\n"
          ]
        }
      ]
    },
    {
      "cell_type": "markdown",
      "source": [
        "# MÓDULO 1: EJERCIOS"
      ],
      "metadata": {
        "id": "A4D8SD72puGf"
      },
      "id": "A4D8SD72puGf"
    },
    {
      "cell_type": "markdown",
      "source": [
        "1. Declara una variable con tu nombre y otra con tu edad. Imprímelas.\n",
        "2. Calcula el total a pagar por 7 productos que valen 4.75 euros cada uno.\n",
        "3. Convierte a mayúsculas el nombre de una empresa que introduzcas como string.\n",
        "4. Comprueba si una persona con edad 17 es mayor de edad usando un booleano.\n",
        "5. Calcula el beneficio de una empresa con ingresos de 3200 y gastos de 1800."
      ],
      "metadata": {
        "id": "l4Z16Pysp7gW"
      },
      "id": "l4Z16Pysp7gW"
    },
    {
      "cell_type": "code",
      "source": [
        "#Utiliza está celda para escribir tus soluciones"
      ],
      "metadata": {
        "id": "2WvLm3ksp_Jq"
      },
      "id": "2WvLm3ksp_Jq",
      "execution_count": 8,
      "outputs": []
    },
    {
      "cell_type": "code",
      "source": [
        "from ast import Param\n",
        "# @title Ejercicio 1: Cálculo del beneficio {\"run\":\"auto\",\"vertical-output\":true}\n",
        "\n",
        "# @markdown Pongamos que tienes una variable **ingresos* y otra variable **gastos**\n",
        "ingresos = 50 #@param\n",
        "gastos = 30 #@param\n",
        "\n",
        "# @markdown ¿Cómo calcularías los beneficios para esos ingresos y esos gastos?\n",
        "\n",
        "try:\n",
        "  codigo_python = ingresos-gastos # @param {\"type\":\"raw\"}\n",
        "  if codigo_python == ingresos-gastos:\n",
        "    print(\"✅ Resultado correcto:\", codigo_python)\n",
        "  else:\n",
        "    print(\"❌ Algo falla con el resultado:\", codigo_python)\n",
        "\n",
        "except:\n",
        "    print(\"❌ ¡Eso no es un número válido!\")\n",
        "# @markdown  Una vez lo tengas, prueba a cambiar los valores.\n"
      ],
      "metadata": {
        "colab": {
          "base_uri": "https://localhost:8080/"
        },
        "cellView": "form",
        "id": "vOrWYFnUhuu3",
        "outputId": "843e4796-56a8-45fe-e201-07086a0e755e"
      },
      "id": "vOrWYFnUhuu3",
      "execution_count": 80,
      "outputs": [
        {
          "output_type": "stream",
          "name": "stdout",
          "text": [
            "✅ Resultado correcto: 20\n"
          ]
        }
      ]
    },
    {
      "cell_type": "code",
      "source": [],
      "metadata": {
        "id": "3gH8JOUtpk-P"
      },
      "id": "3gH8JOUtpk-P",
      "execution_count": null,
      "outputs": []
    },
    {
      "cell_type": "markdown",
      "source": [
        "|Módulo anterior|Índice|Módulo siguiente|\n",
        "|-------|-----------|-----------------|\n",
        "||[Introducción](https://colab.research.google.com/github/Sergiodlgl/PyCourseADE/blob/main/0_Introducción_a_Jupyter_notebooks.ipynb)|[2.Control de flujo](https://colab.research.google.com/github/Sergiodlgl/PyCourseADE/blob/main/2_Control_de_flujo.ipynb)|"
      ],
      "metadata": {
        "id": "Zuf1qhN9iuL2"
      },
      "id": "Zuf1qhN9iuL2"
    },
    {
      "cell_type": "code",
      "source": [],
      "metadata": {
        "id": "7e-7PJqgnYKq"
      },
      "id": "7e-7PJqgnYKq",
      "execution_count": null,
      "outputs": []
    }
  ],
  "metadata": {
    "colab": {
      "provenance": []
    },
    "language_info": {
      "name": "python"
    },
    "kernelspec": {
      "name": "python3",
      "display_name": "Python 3"
    }
  },
  "nbformat": 4,
  "nbformat_minor": 5
}