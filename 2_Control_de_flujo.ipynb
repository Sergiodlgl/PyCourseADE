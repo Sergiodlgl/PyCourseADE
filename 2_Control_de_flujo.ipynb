{
  "cells": [
    {
      "cell_type": "markdown",
      "source": [
        "|Módulo anterior|Índice|Módulo siguiente|\n",
        "|-------|-----------|-----------------|\n",
        "|[1.Tipos de datos](https://colab.research.google.com/github/Sergiodlgl/PyCourseADE/blob/main/1_Tipos_de_datos.ipynb)|[Introducción](https://colab.research.google.com/github/Sergiodlgl/PyCourseADE/blob/main/0_Introducción_a_Jupyter_notebooks.ipynb)|[3.Funciones](https://colab.research.google.com/github/Sergiodlgl/PyCourseADE/blob/main/3_Funciones.ipynb)|"
      ],
      "metadata": {
        "id": "RGDnPxMxiECz"
      },
      "id": "RGDnPxMxiECz"
    },
    {
      "cell_type": "markdown",
      "source": [
        "# MÓDULO 2: CONTROL DE FLUJO\n",
        "\n",
        "En este módulo aprenderás a controlar el flujo de ejecución de tu programa. Estudiaremos cómo tomar decisiones utilizando condicionales,\n",
        "repetir acciones con bucles, y cómo manejar posibles errores durante la ejecución."
      ],
      "metadata": {
        "id": "XEC8JfolslQm"
      },
      "id": "XEC8JfolslQm"
    },
    {
      "cell_type": "markdown",
      "source": [
        "## Sección 1: Condicionales (if, else, elif)\n",
        "\n",
        "Las estructuras condicionales permiten ejecutar bloques de código dependiendo de si se cumple o no una condición.\n",
        "Usamos `if` para la primera condición, `elif` para condiciones adicionales y `else` para el caso por defecto."
      ],
      "metadata": {
        "id": "bws08O7Gssmx"
      },
      "id": "bws08O7Gssmx"
    },
    {
      "cell_type": "code",
      "source": [
        "edad = 20\n",
        "if edad < 18:\n",
        "    print(\"Eres menor de edad\")\n",
        "elif edad >= 18 and edad < 65:\n",
        "    print(\"Eres un adulto\")\n",
        "else:\n",
        "    print(\"Eres una persona mayor\")"
      ],
      "metadata": {
        "colab": {
          "base_uri": "https://localhost:8080/"
        },
        "id": "DeLeCXsUsv33",
        "outputId": "61a037d4-9d73-4368-98bf-9d035a3be522"
      },
      "id": "DeLeCXsUsv33",
      "execution_count": null,
      "outputs": [
        {
          "output_type": "stream",
          "name": "stdout",
          "text": [
            "Eres un adulto\n"
          ]
        }
      ]
    },
    {
      "cell_type": "code",
      "source": [
        "# Ejemplo práctico: descuentos\n",
        "precio = 100\n",
        "tipo_cliente = \"vip\"\n",
        "\n",
        "if tipo_cliente == \"vip\":\n",
        "    precio *= 0.8  # 20% de descuento\n",
        "else:\n",
        "    precio *= 0.95  # 5% de descuento\n",
        "\n",
        "print(\"Precio final:\", precio)"
      ],
      "metadata": {
        "colab": {
          "base_uri": "https://localhost:8080/"
        },
        "id": "zl_z_hQftFWp",
        "outputId": "9032c126-9f03-4e61-c4f3-fb5dad93654a"
      },
      "id": "zl_z_hQftFWp",
      "execution_count": null,
      "outputs": [
        {
          "output_type": "stream",
          "name": "stdout",
          "text": [
            "Precio final: 80.0\n"
          ]
        }
      ]
    },
    {
      "cell_type": "markdown",
      "source": [
        "## Sección 2: Bucles (for, while)\n",
        "\n",
        "Los bucles permiten ejecutar repetidamente un bloque de código. `for` se usa cuando conocemos el número de repeticiones,\n",
        "`while` se utiliza cuando la repetición depende de una condición."
      ],
      "metadata": {
        "id": "jNhyFSRPs26D"
      },
      "id": "jNhyFSRPs26D"
    },
    {
      "cell_type": "code",
      "source": [
        "# Bucle for\n",
        "for i in range(5):\n",
        "    print(\"Repetición:\", i)"
      ],
      "metadata": {
        "colab": {
          "base_uri": "https://localhost:8080/"
        },
        "id": "gOvFpfpqseFX",
        "outputId": "b525d1ff-c576-4d37-f1ce-8a344831e8bf"
      },
      "id": "gOvFpfpqseFX",
      "execution_count": null,
      "outputs": [
        {
          "output_type": "stream",
          "name": "stdout",
          "text": [
            "Repetición: 0\n",
            "Repetición: 1\n",
            "Repetición: 2\n",
            "Repetición: 3\n",
            "Repetición: 4\n"
          ]
        }
      ]
    },
    {
      "cell_type": "code",
      "source": [
        "# Bucle while\n",
        "contador = 0\n",
        "while contador < 5:\n",
        "    print(\"Contador:\", contador)\n",
        "    contador += 1"
      ],
      "metadata": {
        "colab": {
          "base_uri": "https://localhost:8080/"
        },
        "id": "BjD6SmiMs9NR",
        "outputId": "5c5d8e33-e9b2-4ecb-c7c9-7f14b87d8ec6"
      },
      "id": "BjD6SmiMs9NR",
      "execution_count": null,
      "outputs": [
        {
          "output_type": "stream",
          "name": "stdout",
          "text": [
            "Contador: 0\n",
            "Contador: 1\n",
            "Contador: 2\n",
            "Contador: 3\n",
            "Contador: 4\n"
          ]
        }
      ]
    },
    {
      "cell_type": "code",
      "source": [
        "# Ejemplo práctico: sumar ingresos\n",
        "ingresos = [1000, 1200, 1100, 950]\n",
        "total = 0\n",
        "for ingreso in ingresos:\n",
        "    total += ingreso\n",
        "print(\"Total ingresos:\", total)"
      ],
      "metadata": {
        "colab": {
          "base_uri": "https://localhost:8080/"
        },
        "id": "mLEq4DD9s_Ev",
        "outputId": "332c51e1-80f8-47b6-c052-695d161489c8"
      },
      "id": "mLEq4DD9s_Ev",
      "execution_count": null,
      "outputs": [
        {
          "output_type": "stream",
          "name": "stdout",
          "text": [
            "Total ingresos: 4250\n"
          ]
        }
      ]
    },
    {
      "cell_type": "markdown",
      "source": [
        "## Sección 3: Control de errores\n",
        "\n",
        "El control de errores nos permite gestionar situaciones que pueden provocar fallos en el programa mediante `try`, `except`, `else` y `finally`."
      ],
      "metadata": {
        "id": "juKb64fftIWB"
      },
      "id": "juKb64fftIWB"
    },
    {
      "cell_type": "code",
      "source": [
        "try:\n",
        "    numero = int(input(\"Introduce un número entero: \"))\n",
        "    print(\"Has introducido:\", numero)\n",
        "except ValueError:\n",
        "    print(\"¡Eso no es un número válido!\")\n",
        "else:\n",
        "    print(\"Conversión exitosa\")\n",
        "finally:\n",
        "    print(\"Fin del bloque try-except\")"
      ],
      "metadata": {
        "colab": {
          "base_uri": "https://localhost:8080/"
        },
        "id": "0beSSdTstBjN",
        "outputId": "50b9f3a7-8360-4e00-c884-c426fd59338a"
      },
      "id": "0beSSdTstBjN",
      "execution_count": null,
      "outputs": [
        {
          "output_type": "stream",
          "name": "stdout",
          "text": [
            "Introduce un número entero: hola\n",
            "¡Eso no es un número válido!\n",
            "Fin del bloque try-except\n"
          ]
        }
      ]
    },
    {
      "cell_type": "markdown",
      "source": [
        "# MÓDULO 2: EJERCICIOS\n",
        "\n",
        "1. Escribe un programa que verifique si un número es positivo, negativo o cero.\n",
        "2. Usa un bucle `for` para mostrar los números del 1 al 10.\n",
        "3. Usa un bucle `while` para restar 1 a un número hasta que llegue a 0.\n",
        "4. Crea un programa que sume los elementos de una lista de ingresos.\n",
        "5. Maneja el error que ocurre si el usuario introduce un texto en lugar de un número."
      ],
      "metadata": {
        "id": "UBJSp1rrtaX-"
      },
      "id": "UBJSp1rrtaX-"
    },
    {
      "cell_type": "code",
      "source": [
        "from ast import Param\n",
        "# @title Ejercicio 1: Amortización lineal de un activo - Bucle for {\"run\":\"auto\", \"vertical-output\": true}\n",
        "# SI ESTÁS LEYENDO ESTO, HAZ DOBLE CLICK EN LA PARTE DEL FORMULARIO\n",
        "\n",
        "# @markdown Tenemos los siguientes datos sobre un activo,\n",
        "# @markdown Que nos permite calcular la amortización anual, que se guarda en la variable `amortizacion_anual` (ejecutar para ver el valor):\n",
        "\n",
        "\n",
        "\n",
        "valor_inicial = 10000 # @param {type:\"number\"}\n",
        "vida_util = 5 # @param {type:\"integer\"}\n",
        "valor_residual = 0 # @param {type:\"number\"}\n",
        "\n",
        "amortizacion_anual = (valor_inicial - valor_residual)/vida_util\n",
        "\n",
        "print(\"Amortización anual:\",amortizacion_anual)\n",
        "\n",
        "# @markdown Para este ejercicio se pide elegir los campos que permitan calcular el valor contable\n",
        "# @markdown del producto cada año hasta que valga 0, mediante el siguiente bucle for.\n",
        "valor_contable = valor_inicial\n",
        "# @markdown <img src=\"https://github.com/Sergiodlgl/PyCourseADE/raw/main/data/bucleFor.png\" width=\"500px\" align=\"centre\"/>\n",
        "____1 = None # @param [\"vida_util-1\",\"vida_util\",\"vida_util+1\"] {\"type\":\"raw\"}\n",
        "____2 = None # @param [\"valor_contable\",\"valor_residual\",\"amortizacion_anual\"] {\"type\":\"raw\"}\n",
        "____3 = None # @param [\"valor_contable\",\"valor_residual\",\"amortizacion_anual\"] {\"type\":\"raw\"}\n",
        "\n",
        "if (____1 == vida_util+1)and(____2 == valor_contable)and(____3 == amortizacion_anual):\n",
        "  valor_contable = valor_inicial\n",
        "  for año in range(1, ____1):\n",
        "    valor_contable = ____2 - ____3\n",
        "    ____2 = valor_contable\n",
        "    print(\"Año\",año,\": valor contable = \",valor_contable,\"€\")\n",
        "  print(\"✅ Resultado correcto\")\n",
        "else:\n",
        "  print(\"❌ Los campos seleccionados no son los correctos:\")\n"
      ],
      "metadata": {
        "id": "mUaTEFxv4Q0D",
        "outputId": "500d0fc3-2c28-4d93-d507-0018a9eeb5be",
        "colab": {
          "base_uri": "https://localhost:8080/"
        },
        "cellView": "form"
      },
      "id": "mUaTEFxv4Q0D",
      "execution_count": 1,
      "outputs": [
        {
          "output_type": "stream",
          "name": "stdout",
          "text": [
            "Amortización anual: 2000.0\n",
            "❌ Los campos seleccionados no son los correctos:\n"
          ]
        }
      ]
    },
    {
      "cell_type": "code",
      "source": [
        "print(\"📘 Amortización anual: €{:.2f}\".format(amortizacion_anual))\n",
        "print(\"\\n▶️  Resultado usando un bucle **for**:\")\n",
        "\n",
        "# Bucle FOR\n",
        "valor_contable = valor_inicial\n",
        "for año in range(1, ____1):\n",
        "    valor_contable = ____2 - ____3\n",
        "    print(\"Año\",año,\": valor contable = \",valor_contable,\"€\")\n",
        "\n",
        "# Bucle FOR\n",
        "valor_contable = valor_inicial\n",
        "for año in range(1, vida_util + 1):\n",
        "    valor_contable = valor_contable - amortizacion_anual\n",
        "    print(\"Año\",año,\": valor contable = \",valor_contable,\"€\")\n",
        "\n",
        "print(\"\\n▶️  Resultado usando un bucle **while**:\")\n",
        "\n",
        "# Bucle WHILE\n",
        "valor_contable = valor_inicial\n",
        "año = 1\n",
        "while año <= vida_util:\n",
        "    valor_contable -= amortizacion_anual\n",
        "    print(f\"Año {año}: valor contable = €{valor_contable:.2f}\")\n",
        "    año += 1"
      ],
      "metadata": {
        "id": "AV-7UVfhBaHa",
        "outputId": "030afa32-67f1-4bbf-985b-906bc75db770",
        "colab": {
          "base_uri": "https://localhost:8080/"
        }
      },
      "id": "AV-7UVfhBaHa",
      "execution_count": null,
      "outputs": [
        {
          "output_type": "stream",
          "name": "stdout",
          "text": [
            "📘 Amortización anual: €2000.00\n",
            "\n",
            "▶️  Resultado usando un bucle **for**:\n",
            "Año 1 : valor contable =  8000.0 €\n",
            "Año 2 : valor contable =  6000.0 €\n",
            "Año 3 : valor contable =  4000.0 €\n",
            "Año 4 : valor contable =  2000.0 €\n",
            "Año 5 : valor contable =  0.0 €\n",
            "\n",
            "▶️  Resultado usando un bucle **while**:\n",
            "Año 1: valor contable = €8000.00\n",
            "Año 2: valor contable = €6000.00\n",
            "Año 3: valor contable = €4000.00\n",
            "Año 4: valor contable = €2000.00\n",
            "Año 5: valor contable = €0.00\n"
          ]
        }
      ]
    },
    {
      "cell_type": "code",
      "source": [
        "# Puedes usar la siguiente celda para resolverlos:\n",
        "\n",
        "# 1\n",
        "numero = 0\n",
        "\n",
        "# 2\n",
        "for i in range(1, 11):\n",
        "    print(i)\n",
        "\n",
        "# 3\n",
        "num = 5\n",
        "while num > 0:\n",
        "    print(num)\n",
        "    num -= 1\n",
        "\n",
        "# 4\n",
        "ingresos = [500, 1200, 700]\n",
        "total = sum(ingresos)\n",
        "print(\"Suma total:\", total)\n",
        "\n",
        "# 5\n",
        "try:\n",
        "    dato = int(input(\"Introduce un número: \"))\n",
        "    print(\"Número introducido:\", dato)\n",
        "except ValueError:\n",
        "    print(\"Entrada no válida.\")"
      ],
      "metadata": {
        "colab": {
          "base_uri": "https://localhost:8080/"
        },
        "id": "CN02wnHFtRQM",
        "outputId": "b03e91d1-10b8-4cb5-ee51-57d2dfc1dff9"
      },
      "id": "CN02wnHFtRQM",
      "execution_count": null,
      "outputs": [
        {
          "output_type": "stream",
          "name": "stdout",
          "text": [
            "1\n",
            "2\n",
            "3\n",
            "4\n",
            "5\n",
            "6\n",
            "7\n",
            "8\n",
            "9\n",
            "10\n",
            "5\n",
            "4\n",
            "3\n",
            "2\n",
            "1\n",
            "Suma total: 2400\n",
            "Introduce un número: 8\n",
            "Número introducido: 8\n"
          ]
        }
      ]
    },
    {
      "cell_type": "markdown",
      "source": [
        "|Módulo anterior|Índice|Módulo siguiente|\n",
        "|-------|-----------|-----------------|\n",
        "|[1.Tipos de datos](https://colab.research.google.com/github/Sergiodlgl/PyCourseADE/blob/main/1_Tipos_de_datos.ipynb)|[Introducción](https://colab.research.google.com/github/Sergiodlgl/PyCourseADE/blob/main/0_Introducción_a_Jupyter_notebooks.ipynb)|[3.Funciones](https://colab.research.google.com/github/Sergiodlgl/PyCourseADE/blob/main/3_Funciones.ipynb)|"
      ],
      "metadata": {
        "id": "LvKS4GRgjn24"
      },
      "id": "LvKS4GRgjn24"
    }
  ],
  "metadata": {
    "colab": {
      "provenance": []
    },
    "language_info": {
      "name": "python"
    },
    "kernelspec": {
      "name": "python3",
      "display_name": "Python 3"
    }
  },
  "nbformat": 4,
  "nbformat_minor": 5
}