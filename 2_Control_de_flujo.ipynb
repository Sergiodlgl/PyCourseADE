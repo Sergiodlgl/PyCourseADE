{
  "cells": [
    {
      "cell_type": "markdown",
      "source": [
        "# MÓDULO 2: CONTROL DE FLUJOS\n",
        "\n",
        "En este módulo aprenderás a controlar el flujo de ejecución de tu programa. Estudiaremos cómo tomar decisiones utilizando condicionales,\n",
        "repetir acciones con bucles, y cómo manejar posibles errores durante la ejecución."
      ],
      "metadata": {
        "id": "XEC8JfolslQm"
      },
      "id": "XEC8JfolslQm"
    },
    {
      "cell_type": "markdown",
      "source": [
        "## Sección 1: Condicionales (if, else, elif)\n",
        "\n",
        "Las estructuras condicionales permiten ejecutar bloques de código dependiendo de si se cumple o no una condición.\n",
        "Usamos `if` para la primera condición, `elif` para condiciones adicionales y `else` para el caso por defecto."
      ],
      "metadata": {
        "id": "bws08O7Gssmx"
      },
      "id": "bws08O7Gssmx"
    },
    {
      "cell_type": "code",
      "source": [
        "edad = 20\n",
        "if edad < 18:\n",
        "    print(\"Eres menor de edad\")\n",
        "elif edad >= 18 and edad < 65:\n",
        "    print(\"Eres un adulto\")\n",
        "else:\n",
        "    print(\"Eres una persona mayor\")"
      ],
      "metadata": {
        "id": "DeLeCXsUsv33",
        "outputId": "61a037d4-9d73-4368-98bf-9d035a3be522",
        "colab": {
          "base_uri": "https://localhost:8080/"
        }
      },
      "id": "DeLeCXsUsv33",
      "execution_count": 8,
      "outputs": [
        {
          "output_type": "stream",
          "name": "stdout",
          "text": [
            "Eres un adulto\n"
          ]
        }
      ]
    },
    {
      "cell_type": "code",
      "source": [
        "# Ejemplo práctico: descuentos\n",
        "precio = 100\n",
        "tipo_cliente = \"vip\"\n",
        "\n",
        "if tipo_cliente == \"vip\":\n",
        "    precio *= 0.8  # 20% de descuento\n",
        "else:\n",
        "    precio *= 0.95  # 5% de descuento\n",
        "\n",
        "print(\"Precio final:\", precio)"
      ],
      "metadata": {
        "id": "zl_z_hQftFWp",
        "outputId": "9032c126-9f03-4e61-c4f3-fb5dad93654a",
        "colab": {
          "base_uri": "https://localhost:8080/"
        }
      },
      "id": "zl_z_hQftFWp",
      "execution_count": 9,
      "outputs": [
        {
          "output_type": "stream",
          "name": "stdout",
          "text": [
            "Precio final: 80.0\n"
          ]
        }
      ]
    },
    {
      "cell_type": "markdown",
      "source": [
        "## Sección 2: Bucles (for, while)\n",
        "\n",
        "Los bucles permiten ejecutar repetidamente un bloque de código. `for` se usa cuando conocemos el número de repeticiones,\n",
        "`while` se utiliza cuando la repetición depende de una condición."
      ],
      "metadata": {
        "id": "jNhyFSRPs26D"
      },
      "id": "jNhyFSRPs26D"
    },
    {
      "cell_type": "code",
      "source": [
        "# Bucle for\n",
        "for i in range(5):\n",
        "    print(\"Repetición:\", i)"
      ],
      "metadata": {
        "id": "gOvFpfpqseFX",
        "outputId": "b525d1ff-c576-4d37-f1ce-8a344831e8bf",
        "colab": {
          "base_uri": "https://localhost:8080/"
        }
      },
      "id": "gOvFpfpqseFX",
      "execution_count": 2,
      "outputs": [
        {
          "output_type": "stream",
          "name": "stdout",
          "text": [
            "Repetición: 0\n",
            "Repetición: 1\n",
            "Repetición: 2\n",
            "Repetición: 3\n",
            "Repetición: 4\n"
          ]
        }
      ]
    },
    {
      "cell_type": "code",
      "source": [
        "# Bucle while\n",
        "contador = 0\n",
        "while contador < 5:\n",
        "    print(\"Contador:\", contador)\n",
        "    contador += 1"
      ],
      "metadata": {
        "id": "BjD6SmiMs9NR",
        "outputId": "5c5d8e33-e9b2-4ecb-c7c9-7f14b87d8ec6",
        "colab": {
          "base_uri": "https://localhost:8080/"
        }
      },
      "id": "BjD6SmiMs9NR",
      "execution_count": 3,
      "outputs": [
        {
          "output_type": "stream",
          "name": "stdout",
          "text": [
            "Contador: 0\n",
            "Contador: 1\n",
            "Contador: 2\n",
            "Contador: 3\n",
            "Contador: 4\n"
          ]
        }
      ]
    },
    {
      "cell_type": "code",
      "source": [
        "# Ejemplo práctico: sumar ingresos\n",
        "ingresos = [1000, 1200, 1100, 950]\n",
        "total = 0\n",
        "for ingreso in ingresos:\n",
        "    total += ingreso\n",
        "print(\"Total ingresos:\", total)"
      ],
      "metadata": {
        "id": "mLEq4DD9s_Ev",
        "outputId": "332c51e1-80f8-47b6-c052-695d161489c8",
        "colab": {
          "base_uri": "https://localhost:8080/"
        }
      },
      "id": "mLEq4DD9s_Ev",
      "execution_count": 5,
      "outputs": [
        {
          "output_type": "stream",
          "name": "stdout",
          "text": [
            "Total ingresos: 4250\n"
          ]
        }
      ]
    },
    {
      "cell_type": "markdown",
      "source": [
        "## Sección 3: Control de errores\n",
        "\n",
        "El control de errores nos permite gestionar situaciones que pueden provocar fallos en el programa mediante `try`, `except`, `else` y `finally`."
      ],
      "metadata": {
        "id": "juKb64fftIWB"
      },
      "id": "juKb64fftIWB"
    },
    {
      "cell_type": "code",
      "source": [
        "try:\n",
        "    numero = int(input(\"Introduce un número entero: \"))\n",
        "    print(\"Has introducido:\", numero)\n",
        "except ValueError:\n",
        "    print(\"¡Eso no es un número válido!\")\n",
        "else:\n",
        "    print(\"Conversión exitosa\")\n",
        "finally:\n",
        "    print(\"Fin del bloque try-except\")"
      ],
      "metadata": {
        "id": "0beSSdTstBjN",
        "outputId": "50b9f3a7-8360-4e00-c884-c426fd59338a",
        "colab": {
          "base_uri": "https://localhost:8080/"
        }
      },
      "id": "0beSSdTstBjN",
      "execution_count": 11,
      "outputs": [
        {
          "output_type": "stream",
          "name": "stdout",
          "text": [
            "Introduce un número entero: hola\n",
            "¡Eso no es un número válido!\n",
            "Fin del bloque try-except\n"
          ]
        }
      ]
    },
    {
      "cell_type": "markdown",
      "source": [
        "# MÓDULO 2: EJERCICIOS\n",
        "\n",
        "1. Escribe un programa que verifique si un número es positivo, negativo o cero.\n",
        "2. Usa un bucle `for` para mostrar los números del 1 al 10.\n",
        "3. Usa un bucle `while` para restar 1 a un número hasta que llegue a 0.\n",
        "4. Crea un programa que sume los elementos de una lista de ingresos.\n",
        "5. Maneja el error que ocurre si el usuario introduce un texto en lugar de un número."
      ],
      "metadata": {
        "id": "UBJSp1rrtaX-"
      },
      "id": "UBJSp1rrtaX-"
    },
    {
      "cell_type": "code",
      "source": [],
      "metadata": {
        "id": "CN02wnHFtRQM"
      },
      "id": "CN02wnHFtRQM",
      "execution_count": null,
      "outputs": []
    }
  ],
  "metadata": {
    "colab": {
      "provenance": []
    },
    "language_info": {
      "name": "python"
    },
    "kernelspec": {
      "name": "python3",
      "display_name": "Python 3"
    }
  },
  "nbformat": 4,
  "nbformat_minor": 5
}