{
  "cells": [
    {
      "cell_type": "markdown",
      "source": [
        "|Módulo anterior|Índice|Módulo siguiente|\n",
        "|-------|-----------|-----------------|\n",
        "|[2.Control de flujo](https://colab.research.google.com/github/Sergiodlgl/PyCourseADE/blob/main/2_Control_de_flujo.ipynb)|[Introducción](https://colab.research.google.com/github/Sergiodlgl/PyCourseADE/blob/main/0_Introducción_a_Jupyter_notebooks.ipynb)|[4.Estructuras de datos](https://colab.research.google.com/github/Sergiodlgl/PyCourseADE/blob/main/4_Estructuras_de_datos.ipynb)|"
      ],
      "metadata": {
        "id": "RGDnPxMxiECz"
      },
      "id": "RGDnPxMxiECz"
    },
    {
      "cell_type": "markdown",
      "source": [
        "# MÓDULO 3: FUNCIONES\n",
        "\n",
        "En este módulo aprenderás qué son las funciones en Python, cómo definirlas y utilizarlas. Las funciones permiten encapsular bloques de código para que puedan ser reutilizados y mantenidos fácilmente. Veremos cómo pasarles argumentos, devolver resultados y cómo implementar funciones recursivas."
      ],
      "metadata": {
        "id": "ae6c3IC9urhx"
      },
      "id": "ae6c3IC9urhx"
    },
    {
      "cell_type": "markdown",
      "source": [
        "## Sección 1: Definición de funciones (def)\n",
        "\n",
        "Las funciones en Python se definen con la palabra clave `def` seguida del nombre de la función y paréntesis.\n",
        "Dentro de los paréntesis se colocan los parámetros si los hay. Las funciones pueden o no devolver un valor."
      ],
      "metadata": {
        "id": "cN5qHLCsuyyG"
      },
      "id": "cN5qHLCsuyyG"
    },
    {
      "cell_type": "code",
      "source": [
        "def saludar():\n",
        "    print(\"Hola, bienvenido al curso de Python para ADE\")\n",
        "\n",
        "saludar()"
      ],
      "metadata": {
        "id": "smQd-xUVu39o",
        "outputId": "3dcd09fa-22df-4ec7-97e1-f246f96e7a61",
        "colab": {
          "base_uri": "https://localhost:8080/"
        }
      },
      "id": "smQd-xUVu39o",
      "execution_count": null,
      "outputs": [
        {
          "output_type": "stream",
          "name": "stdout",
          "text": [
            "Hola, bienvenido al curso de Python para ADE\n"
          ]
        }
      ]
    },
    {
      "cell_type": "markdown",
      "source": [
        "## Sección 2: Argumentos y parámetros\n",
        "\n",
        "Los parámetros son variables que se definen en la función y los argumentos son los valores reales que se pasan a la función.\n",
        "Se pueden definir valores por defecto para que un parámetro sea opcional."
      ],
      "metadata": {
        "id": "tfP6dYvZu8ED"
      },
      "id": "tfP6dYvZu8ED"
    },
    {
      "cell_type": "code",
      "source": [
        "def saludar(nombre):\n",
        "    print(\"Hola\", nombre)\n",
        "\n",
        "saludar(\"Ana\")"
      ],
      "metadata": {
        "id": "IVP3Knkpu6Ja",
        "outputId": "741f8713-cc42-415b-b6ab-f13d9af0aa7d",
        "colab": {
          "base_uri": "https://localhost:8080/"
        }
      },
      "id": "IVP3Knkpu6Ja",
      "execution_count": null,
      "outputs": [
        {
          "output_type": "stream",
          "name": "stdout",
          "text": [
            "Hola Ana\n"
          ]
        }
      ]
    },
    {
      "cell_type": "code",
      "source": [
        "# Con valor por defecto\n",
        "def saludar_empresa(nombre=\"empresa\"):\n",
        "    print(\"Bienvenido a\", nombre)\n",
        "\n",
        "saludar_empresa()\n",
        "saludar_empresa(\"Paco S.L.\")"
      ],
      "metadata": {
        "id": "u505iLXQvGGh",
        "outputId": "1c3157d6-8cea-4438-a1f1-f4b2b1d090c9",
        "colab": {
          "base_uri": "https://localhost:8080/"
        }
      },
      "id": "u505iLXQvGGh",
      "execution_count": null,
      "outputs": [
        {
          "output_type": "stream",
          "name": "stdout",
          "text": [
            "Bienvenido a empresa\n",
            "Bienvenido a Paco S.L.\n"
          ]
        }
      ]
    },
    {
      "cell_type": "markdown",
      "source": [
        "## Sección 3: Retorno de valores\n",
        "\n",
        "Las funciones pueden devolver resultados usando la instrucción `return`. Esto permite que el resultado sea almacenado o utilizado posteriormente."
      ],
      "metadata": {
        "id": "5vxltHpXvBuN"
      },
      "id": "5vxltHpXvBuN"
    },
    {
      "cell_type": "code",
      "source": [
        "def sumar(a, b):\n",
        "    return a + b\n",
        "\n",
        "resultado = sumar(10, 5)\n",
        "print(\"Resultado de la suma:\", resultado)"
      ],
      "metadata": {
        "id": "dV2tqrmnvBJw",
        "outputId": "3e268d9b-a512-4507-88b3-f26c7b911686",
        "colab": {
          "base_uri": "https://localhost:8080/"
        }
      },
      "id": "dV2tqrmnvBJw",
      "execution_count": null,
      "outputs": [
        {
          "output_type": "stream",
          "name": "stdout",
          "text": [
            "Resultado de la suma: 15\n"
          ]
        }
      ]
    },
    {
      "cell_type": "markdown",
      "source": [
        "## Sección 4: Recursividad\n",
        "\n",
        "Una función recursiva es aquella que se llama a sí misma.\n",
        "Es útil para resolver problemas que pueden dividirse en subproblemas más pequeños como factoriales o secuencias."
      ],
      "metadata": {
        "id": "SYvsD_bCvRxr"
      },
      "id": "SYvsD_bCvRxr"
    },
    {
      "cell_type": "code",
      "source": [
        "def factorial(n):\n",
        "    if n == 0:\n",
        "        return 1\n",
        "    else:\n",
        "        return n * factorial(n - 1)\n",
        "\n",
        "print(\"Factorial de 5:\", factorial(5))"
      ],
      "metadata": {
        "id": "IuHZguc8vRfd",
        "outputId": "e1b47f7f-bfe0-4656-8c72-29279d8eb394",
        "colab": {
          "base_uri": "https://localhost:8080/"
        }
      },
      "id": "IuHZguc8vRfd",
      "execution_count": null,
      "outputs": [
        {
          "output_type": "stream",
          "name": "stdout",
          "text": [
            "Factorial de 5: 120\n"
          ]
        }
      ]
    },
    {
      "cell_type": "markdown",
      "source": [
        "# MÓDULO 3: EJERCICIOS\n",
        "\n",
        "1. Define una función que calcule el cuadrado de un número.\n",
        "2. Crea una función que calcule el precio final con IVA (21%).\n",
        "3. Haz una función que reciba una lista de ingresos y devuelva la suma.\n",
        "4. Crea una función con un parámetro opcional.\n",
        "5. Escribe una función recursiva que sume los primeros n números naturales."
      ],
      "metadata": {
        "id": "sSMXYhaKvYab"
      },
      "id": "sSMXYhaKvYab"
    },
    {
      "cell_type": "code",
      "source": [
        "# Puedes resolverlos aquí:\n",
        "\n",
        "def cuadrado(x):\n",
        "    return x * x\n",
        "\n",
        "print(cuadrado(4))\n",
        "\n",
        "# Función con IVA\n",
        "def precio_con_iva(precio):\n",
        "    return precio * 1.21\n",
        "\n",
        "print(precio_con_iva(100))\n",
        "\n",
        "# Sumar ingresos\n",
        "def sumar_ingresos(lista):\n",
        "    return sum(lista)\n",
        "\n",
        "print(sumar_ingresos([1000, 2000, 3000]))\n",
        "\n",
        "# Parámetro opcional\n",
        "def saludar(nombre=\"Usuario\"):\n",
        "    print(\"Hola\", nombre)\n",
        "\n",
        "saludar()\n",
        "saludar(\"Laura\")\n",
        "\n",
        "# Recursiva suma de n primeros naturales\n",
        "def suma_naturales(n):\n",
        "    if n == 1:\n",
        "        return 1\n",
        "    else:\n",
        "        return n + suma_naturales(n - 1)\n",
        "\n",
        "print(suma_naturales(5))"
      ],
      "metadata": {
        "id": "sxGej8LjvQe0",
        "outputId": "9e5e3de4-bc44-49df-807d-623f638e5b92",
        "colab": {
          "base_uri": "https://localhost:8080/"
        }
      },
      "id": "sxGej8LjvQe0",
      "execution_count": null,
      "outputs": [
        {
          "output_type": "stream",
          "name": "stdout",
          "text": [
            "16\n",
            "121.0\n",
            "6000\n",
            "Hola Usuario\n",
            "Hola Laura\n",
            "15\n"
          ]
        }
      ]
    },
    {
      "cell_type": "markdown",
      "source": [
        "|Módulo anterior|Índice|Módulo siguiente|\n",
        "|-------|-----------|-----------------|\n",
        "|[2.Control de flujo](https://colab.research.google.com/github/Sergiodlgl/PyCourseADE/blob/main/2_Control_de_flujo.ipynb)|[Introducción](https://colab.research.google.com/github/Sergiodlgl/PyCourseADE/blob/main/0_Introducción_a_Jupyter_notebooks.ipynb)|[4.Estructuras de datos](https://colab.research.google.com/github/Sergiodlgl/PyCourseADE/blob/main/4_Estructuras_de_datos.ipynb)|"
      ],
      "metadata": {
        "id": "l0B47YMvj3gj"
      },
      "id": "l0B47YMvj3gj"
    }
  ],
  "metadata": {
    "colab": {
      "provenance": []
    },
    "language_info": {
      "name": "python"
    },
    "kernelspec": {
      "name": "python3",
      "display_name": "Python 3"
    }
  },
  "nbformat": 4,
  "nbformat_minor": 5
}