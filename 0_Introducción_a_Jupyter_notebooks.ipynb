{
  "cells": [
    {
      "cell_type": "markdown",
      "source": [
        "# Indice"
      ],
      "metadata": {
        "id": "ybzoiZNKnedn"
      },
      "id": "ybzoiZNKnedn"
    },
    {
      "cell_type": "markdown",
      "id": "ac3303b2",
      "metadata": {
        "id": "ac3303b2"
      },
      "source": [
        "Para desplazarte a traves de lo notebooks utiliza los siguientes enlaces:\n",
        "\n",
        "\n",
        "*  [0. Introducción a Jupyter notebooks](another_notebook.ipynb#section_id2)\n",
        "*  [3.Funciones](https://colab.research.google.com/github/Sergiodlgl/PyCourseADE/blob/main/3.%20Funciones/3.%20Funciones.ipynb)\n",
        "\n",
        "\n",
        "\n"
      ]
    }
  ],
  "metadata": {
    "language_info": {
      "name": "python"
    },
    "colab": {
      "provenance": [],
      "toc_visible": true
    },
    "kernelspec": {
      "name": "python3",
      "display_name": "Python 3"
    }
  },
  "nbformat": 4,
  "nbformat_minor": 5
}