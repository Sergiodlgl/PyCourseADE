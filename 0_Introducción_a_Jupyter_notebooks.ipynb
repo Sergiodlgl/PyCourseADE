{
  "cells": [
    {
      "cell_type": "markdown",
      "source": [
        "# Curso de Python para estudiantes de ADE\n",
        "\n",
        "!Bienvenido! En este curso aprenderás los conocimientos más esenciales para poder defenderte en el mundo del *data analysis*.\n",
        "\n",
        "Lo primero que debes saber es cómo se utilizan los notebooks en Google Colab. Un notebook es en documento como este que estas viendo, donde se mezclan celdas de texto (como esta) y celdas de código:"
      ],
      "metadata": {
        "id": "_qJYPMg-TF4M"
      },
      "id": "_qJYPMg-TF4M"
    },
    {
      "cell_type": "code",
      "source": [
        "print('Como esta celda.')"
      ],
      "metadata": {
        "id": "J14SIWKVU1ii",
        "outputId": "2e6e9517-02b1-4dc1-fd3e-660065bf59a6",
        "colab": {
          "base_uri": "https://localhost:8080/"
        }
      },
      "id": "J14SIWKVU1ii",
      "execution_count": null,
      "outputs": [
        {
          "output_type": "stream",
          "name": "stdout",
          "text": [
            "Como esta celda.\n"
          ]
        }
      ]
    },
    {
      "cell_type": "markdown",
      "source": [
        "El código se ejecuta a traves de un kernel en remoto, para que puedas trabajar con Python sin necesidad de tenerlo instalado. Muy útil, ¿verdad?"
      ],
      "metadata": {
        "id": "SgVB6M-DVNCL"
      },
      "id": "SgVB6M-DVNCL"
    },
    {
      "cell_type": "markdown",
      "source": [
        "# Indice"
      ],
      "metadata": {
        "id": "ybzoiZNKnedn"
      },
      "id": "ybzoiZNKnedn"
    },
    {
      "cell_type": "markdown",
      "id": "ac3303b2",
      "metadata": {
        "id": "ac3303b2"
      },
      "source": [
        "Para desplazarte a traves de los módulos del curso utiliza los siguientes enlaces:\n",
        "\n",
        "|Módulos|Descripción|Duracion estimada|\n",
        "|-------|-----------|-----------------|\n",
        "|[1.Tipos de datos](https://colab.research.google.com/github/Sergiodlgl/PyCourseADE/blob/main/1_Tipos_de_datos.ipynb)|ñ|5|\n",
        "|[2.Control de flujo](https://colab.research.google.com/github/Sergiodlgl/PyCourseADE/blob/main/2_Control_de_flujo.ipynb)|ñ|5|\n",
        "|[3.Funciones](https://colab.research.google.com/github/Sergiodlgl/PyCourseADE/blob/main/3_Funciones.ipynb)|ñ|5|\n",
        "|[4.Estructuras de datos](https://colab.research.google.com/github/Sergiodlgl/PyCourseADE/blob/main/4_Estructuras_de_datos.ipynb)|ñ|5|\n",
        "|[5.Entradas y salidas](https://colab.research.google.com/github/Sergiodlgl/PyCourseADE/blob/main/5_Entradas_y_salidas.ipynb)|ñ|5|\n",
        "|[6.Librería NumPy](https://colab.research.google.com/github/Sergiodlgl/PyCourseADE/blob/main/6_Libreria_NumPy.ipynb)|ñ|5|\n",
        "|[7.Librería Pandas](https://colab.research.google.com/github/Sergiodlgl/PyCourseADE/blob/main/7_Librer%C3%ADa_Pandas.ipynb)|ñ|5|\n",
        "|[8.Librería Matplitlib.](https://colab.research.google.com/github/Sergiodlgl/PyCourseADE/blob/main/8_Librer%C3%ADa_Matplotlib.ipynb#scrollTo=I441Jy1FWnOo)|ñ|5|\n",
        "|[9.Proyecto final](https://colab.research.google.com/github/Sergiodlgl/PyCourseADE/blob/main/9_Proyecto_final.ipynb)|ñ|5|"
      ]
    },
    {
      "cell_type": "markdown",
      "source": [
        "Recuerda que los cambios que hagas en los notebooks **no serán permanentes**, por lo que cada vez que vuelvas a abrir un notebook todo lo que hanías puesto habrá desaparecido.\n",
        "\n",
        "Si quieres evitar esto, prueba a guardar una copia con alguna de estas opciones:\n",
        "Archivo/Guardar una copia en Drive\n",
        "\n",
        "1.   Archivo/Guardar una copia en Drive\n",
        "2.   Archivo/Descargar/Descargar .ipynb\n",
        "\n",
        "Luego podrás abrir el documento que has guardado con:\n",
        "\n",
        "\n",
        "1.   Archivo/Abrir cuaderno/Google Drive\n",
        "2.   Archivo/Abrir cuaderno/Subir"
      ],
      "metadata": {
        "id": "W2ocj-FEZULN"
      },
      "id": "W2ocj-FEZULN"
    },
    {
      "cell_type": "markdown",
      "source": [
        "#¿Qué es Python?"
      ],
      "metadata": {
        "id": "NzFmNiGgrbCt"
      },
      "id": "NzFmNiGgrbCt"
    },
    {
      "cell_type": "markdown",
      "source": [
        "Python no es una pitón..."
      ],
      "metadata": {
        "id": "fbLxYIdUsFX1"
      },
      "id": "fbLxYIdUsFX1"
    },
    {
      "cell_type": "markdown",
      "source": [
        "<p align=\"center\">\n",
        "  <img src=\"https://github.com/Sergiodlgl/PyCourseADE/raw/main/data/piton.jpg\" width=\"400\"/>\n",
        "</p>"
      ],
      "metadata": {
        "id": "QDV4n2RCtM6b"
      },
      "id": "QDV4n2RCtM6b"
    },
    {
      "cell_type": "markdown",
      "source": [
        "al menos si la comparamos con otros lenguajes..."
      ],
      "metadata": {
        "id": "Wy0lPgHLb4C6"
      },
      "id": "Wy0lPgHLb4C6"
    },
    {
      "cell_type": "markdown",
      "source": [
        "|f|h|\n",
        "|-|-|\n",
        "|1|2|"
      ],
      "metadata": {
        "id": "HKqFuMALdSy0"
      },
      "id": "HKqFuMALdSy0"
    },
    {
      "cell_type": "code",
      "source": [],
      "metadata": {
        "id": "27X91PKodWof"
      },
      "id": "27X91PKodWof",
      "execution_count": null,
      "outputs": []
    }
  ],
  "metadata": {
    "language_info": {
      "name": "python"
    },
    "colab": {
      "provenance": [],
      "toc_visible": true
    },
    "kernelspec": {
      "name": "python3",
      "display_name": "Python 3"
    }
  },
  "nbformat": 4,
  "nbformat_minor": 5
}