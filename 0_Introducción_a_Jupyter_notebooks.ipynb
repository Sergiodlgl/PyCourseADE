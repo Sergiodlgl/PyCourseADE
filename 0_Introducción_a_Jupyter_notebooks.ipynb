{
  "cells": [
    {
      "cell_type": "markdown",
      "source": [
        "# Indice"
      ],
      "metadata": {
        "id": "ybzoiZNKnedn"
      },
      "id": "ybzoiZNKnedn"
    },
    {
      "cell_type": "markdown",
      "id": "ac3303b2",
      "metadata": {
        "id": "ac3303b2"
      },
      "source": [
        "Para desplazarte a traves de lo notebooks utiliza los siguientes enlaces:\n",
        "\n",
        "\n",
        "*  [0. Introducción a Jupyter notebooks](another_notebook.ipynb#section_id2)\n",
        "*  [3.Funciones](https://colab.research.google.com/github/Sergiodlgl/PyCourseADE/blob/main/3_Funciones.ipynb)\n",
        "\n",
        "\n"
      ]
    },
    {
      "cell_type": "markdown",
      "source": [
        "#¿Qué es Python?"
      ],
      "metadata": {
        "id": "NzFmNiGgrbCt"
      },
      "id": "NzFmNiGgrbCt"
    },
    {
      "cell_type": "markdown",
      "source": [
        "Python no es una pitón...\n",
        "\n",
        "![piton](https://github.com/Sergiodlgl/PyCourseADE/raw/main/data/piton.jpg)"
      ],
      "metadata": {
        "id": "fbLxYIdUsFX1"
      },
      "id": "fbLxYIdUsFX1"
    },
    {
      "cell_type": "markdown",
      "source": [
        "<p align=\"center\">\n",
        "  <img src=\"https://github.com/Sergiodlgl/PyCourseADE/raw/main/data/piton.jpg\" width=\"400\"/>\n",
        "</p>"
      ],
      "metadata": {
        "id": "QDV4n2RCtM6b"
      },
      "id": "QDV4n2RCtM6b"
    },
    {
      "cell_type": "code",
      "source": [],
      "metadata": {
        "id": "liUU9wQntx3A"
      },
      "id": "liUU9wQntx3A",
      "execution_count": null,
      "outputs": []
    }
  ],
  "metadata": {
    "language_info": {
      "name": "python"
    },
    "colab": {
      "provenance": [],
      "toc_visible": true
    },
    "kernelspec": {
      "name": "python3",
      "display_name": "Python 3"
    }
  },
  "nbformat": 4,
  "nbformat_minor": 5
}